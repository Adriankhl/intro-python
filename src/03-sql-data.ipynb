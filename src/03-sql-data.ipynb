{
 "cells": [
  {
   "cell_type": "markdown",
   "id": "973f500b-1eb1-4598-b908-41a78d1ff0cb",
   "metadata": {},
   "source": [
    "<div class=\"alert alert-info\">\n",
    "    This is a tutorial on using sql and doing data analysis in python. Some of the cells bellow are hiddened ( <code>...</code>) and you should try to google the answer before unhiding them.\n",
    "</div>"
   ]
  },
  {
   "cell_type": "markdown",
   "id": "3a9c6d58-5210-4a79-aacf-71df50c56e36",
   "metadata": {},
   "source": [
    "<div class=\"alert alert-success\">\n",
    "    A Jupyter notebook is made up of various cells, each containing a piece of text or some code that you can run. You can move from one cell to another by using the arrow keys or by clicking a cell with the mouse. In order to execute the code in a cell you have to press <code>Ctrl-Enter</code> while selecting the code cell. Alternatively, you can press the \"<i class=\"fa fa-step-forward\"></i> Run\" button at the top of the screen. This also moves to the next cell at the same time. Using <code>Shift-Enter</code> instead of <code>Ctrl-Enter</code> will also execute the code and move to the next cell at the same time.\n",
    "\n",
    "</div>\n",
    "\n",
    "* a\n",
    "* b\n",
    "* c"
   ]
  },
  {
   "cell_type": "code",
   "execution_count": null,
   "id": "d826670b-9af3-424d-af9a-90040300ff8a",
   "metadata": {
    "tags": []
   },
   "outputs": [],
   "source": [
    "import pandas as pd\n",
    "import sqlalchemy as db"
   ]
  },
  {
   "cell_type": "code",
   "execution_count": null,
   "id": "f1ba92e0-cca7-4026-9a71-1a7d0581718e",
   "metadata": {},
   "outputs": [],
   "source": [
    "engine = db.create_engine(\"mssql+pyodbc://laikh@P-CWTS-010260\", fast_executemany=True)"
   ]
  },
  {
   "cell_type": "code",
   "execution_count": null,
   "id": "e937d644-6a47-46fe-8d61-43a7dad2e21c",
   "metadata": {
    "tags": []
   },
   "outputs": [],
   "source": [
    "%reload_ext sql\n",
    "%sql mssql+pyodbc://laikh@P-CWTS-010260"
   ]
  },
  {
   "cell_type": "code",
   "execution_count": null,
   "id": "0879ca20-c9d3-4b50-a932-c8beb334809e",
   "metadata": {
    "tags": []
   },
   "outputs": [],
   "source": [
    "%%sql\n",
    "SELECT name \n",
    "FROM master.sys.databases"
   ]
  },
  {
   "cell_type": "code",
   "execution_count": null,
   "id": "a35e0639-70bf-4ffb-a65a-5b42d2ffbd98",
   "metadata": {},
   "outputs": [],
   "source": [
    "%%sql\n",
    "SELECT TOP (5) *\n",
    "FROM wos_2013.dbo.pub p \n",
    "TABLESAMPLE(1000 ROWS)\n",
    "WHERE pub_year > 2000\n",
    "ORDER BY NEWID()"
   ]
  },
  {
   "cell_type": "code",
   "execution_count": null,
   "id": "1604b4d8-182c-4c33-bde3-8382b973bdcb",
   "metadata": {},
   "outputs": [],
   "source": [
    "sql_query = \"\"\"\n",
    "SELECT TOP (10000) *\n",
    "FROM wos_2013.dbo.pub p \n",
    "TABLESAMPLE(100000 ROWS)\n",
    "WHERE pub_year > 2000\n",
    "ORDER BY NEWID()\n",
    "\"\"\""
   ]
  },
  {
   "cell_type": "code",
   "execution_count": null,
   "id": "9bbb515d-6982-4db6-9a4a-a124a7511814",
   "metadata": {},
   "outputs": [],
   "source": [
    "df = pd.read_sql(sql_query, con=engine)"
   ]
  },
  {
   "cell_type": "code",
   "execution_count": null,
   "id": "cd9bb9b1-1558-410e-a58a-554230712ddd",
   "metadata": {},
   "outputs": [],
   "source": [
    "df.groupby(['pub_year']).size().plot()"
   ]
  },
  {
   "cell_type": "code",
   "execution_count": null,
   "id": "ae2a7218-2c3a-4714-a92d-5c05180db165",
   "metadata": {},
   "outputs": [],
   "source": [
    "import seaborn as sns"
   ]
  },
  {
   "cell_type": "code",
   "execution_count": null,
   "id": "f249e2dc-b5e4-4987-9ef0-10a69e1a4589",
   "metadata": {},
   "outputs": [],
   "source": [
    "sns.lineplot(data=df, x=\"pub_year\", y=\"n_cits\", hue=\"is_open_access\")"
   ]
  },
  {
   "cell_type": "code",
   "execution_count": null,
   "id": "fd5b9ef9-acdd-4664-b830-50ee3d280f04",
   "metadata": {},
   "outputs": [],
   "source": [
    "#https://stackoverflow.com/questions/30327153/seaborn-pylab-changing-xticks-from-float-to-int?rq=1\n",
    "from  matplotlib.ticker import FuncFormatter"
   ]
  },
  {
   "cell_type": "code",
   "execution_count": null,
   "id": "a539eb9b-0267-4cb3-8c38-5ca03d98a5fc",
   "metadata": {},
   "outputs": [],
   "source": [
    "ax = sns.lineplot(data=df, x=\"pub_year\", y=\"n_cits\", hue=\"is_open_access\")\n",
    "ax.xaxis.set_major_formatter(FuncFormatter(lambda x, _: int(x)))\n",
    "ax"
   ]
  },
  {
   "cell_type": "code",
   "execution_count": null,
   "id": "9fc42c3f-3861-4520-bb65-21c9a1714d41",
   "metadata": {},
   "outputs": [],
   "source": [
    "#https://stackoverflow.com/questions/30914462/matplotlib-how-to-force-integer-tick-labels\n",
    "from matplotlib.ticker import MaxNLocator"
   ]
  },
  {
   "cell_type": "code",
   "execution_count": null,
   "id": "7fdb2d8c-e9f5-458d-ab73-c31290d76e59",
   "metadata": {},
   "outputs": [],
   "source": [
    "ax = sns.lineplot(data=df, x=\"pub_year\", y=\"n_cits\", hue=\"is_open_access\")\n",
    "ax.xaxis.set_major_locator(MaxNLocator(integer=True))\n",
    "ax"
   ]
  },
  {
   "cell_type": "code",
   "execution_count": null,
   "id": "a407d613-31ae-438e-9016-a862fb3fe2aa",
   "metadata": {},
   "outputs": [],
   "source": []
  },
  {
   "cell_type": "code",
   "execution_count": null,
   "id": "36e96187-694f-4f81-883b-bd998d066b6b",
   "metadata": {},
   "outputs": [],
   "source": [
    "#dtrain = xgb.DMatrix(df[[\"pub_year\", \"n_refs\"]], df[\"n_cits\"])"
   ]
  },
  {
   "cell_type": "code",
   "execution_count": null,
   "id": "ce6cad72-a597-4518-835b-a1fb54cd9f1a",
   "metadata": {},
   "outputs": [],
   "source": [
    "df[\"num_year_1\"] = 2021 - df[\"pub_year\"]"
   ]
  },
  {
   "cell_type": "code",
   "execution_count": null,
   "id": "80509c05-a00c-4da5-bb10-a23aa94b9bbd",
   "metadata": {},
   "outputs": [],
   "source": [
    "df[\"num_year_2\"] = df[\"pub_year\"].map(lambda x: 2021 - x)"
   ]
  },
  {
   "cell_type": "code",
   "execution_count": null,
   "id": "7c81e31b-5934-417a-97b5-c40a97bc857c",
   "metadata": {},
   "outputs": [],
   "source": [
    "df[\"num_year_3\"] = df.apply(lambda x: 2021 - x[\"pub_year\"], axis=1)"
   ]
  },
  {
   "cell_type": "code",
   "execution_count": null,
   "id": "2cb63f36-c78d-4d71-91f7-da681fc6fb47",
   "metadata": {},
   "outputs": [],
   "source": [
    "def compute_num_year(x):\n",
    "    return 2021 - x[\"pub_year\"]\n",
    "df[\"num_year_4\"] = df.apply(lambda x: compute_num_year(x), axis=1)"
   ]
  },
  {
   "cell_type": "code",
   "execution_count": null,
   "id": "486c38a1-10fb-48b6-b043-ad22725eac09",
   "metadata": {},
   "outputs": [],
   "source": [
    "df[[\"num_year_1\", \"num_year_2\", \"num_year_3\",  \"num_year_4\"]].head()"
   ]
  },
  {
   "cell_type": "code",
   "execution_count": null,
   "id": "5bb58f41-6a16-4d1b-aae7-61d903a831d3",
   "metadata": {},
   "outputs": [],
   "source": [
    "import xgboost as xgb"
   ]
  },
  {
   "cell_type": "code",
   "execution_count": null,
   "id": "9fbf8447-5ec4-420b-a877-3dff2ae6a4ac",
   "metadata": {},
   "outputs": [],
   "source": []
  },
  {
   "cell_type": "code",
   "execution_count": null,
   "id": "18555645-8d60-4f25-aaa3-7521892c0e4e",
   "metadata": {},
   "outputs": [],
   "source": [
    "train_size = int(len(df) * 0.8)\n",
    "test_size = len(df) - train_size\n",
    "df_train, df_test = df[:train_size], df[train_size:len(df)].reset_index(drop=True)\n",
    "df_test[\"data\"] = \"test\""
   ]
  },
  {
   "cell_type": "code",
   "execution_count": null,
   "id": "5c6abcf6-a276-4728-ae51-3c0d8838bbe6",
   "metadata": {},
   "outputs": [],
   "source": [
    "x_train_1 = df_train[[\"num_year_1\"]]\n",
    "y_train_1 = df_train[\"n_cits\"]\n",
    "\n",
    "x_test_1 = df_test[[\"num_year_1\"]]\n",
    "y_test_1 = df_test[\"n_cits\"]"
   ]
  },
  {
   "cell_type": "code",
   "execution_count": null,
   "id": "2348f2fa-490a-4e3c-b7c5-257a6cd6731c",
   "metadata": {},
   "outputs": [],
   "source": [
    "reg = xgb.XGBRegressor(tree_method=\"hist\")"
   ]
  },
  {
   "cell_type": "code",
   "execution_count": null,
   "id": "9bb5526d-bc35-411f-9f4a-85e4ab9d3233",
   "metadata": {},
   "outputs": [],
   "source": [
    "reg.fit(x_train_1, y_train_1)"
   ]
  },
  {
   "cell_type": "code",
   "execution_count": null,
   "id": "ebbb2ef0-0371-4e5a-8f20-f365f91a720f",
   "metadata": {},
   "outputs": [],
   "source": [
    "y_pred_1 = reg.predict(x_test_1)\n",
    "df_pred_1 = df_test.copy()\n",
    "df_pred_1[\"data\"] = \"predicted\"\n",
    "df_pred_1[\"n_cits\"] = y_pred_1"
   ]
  },
  {
   "cell_type": "code",
   "execution_count": null,
   "id": "1f6d06b6-0cfa-44b3-af1d-681fa26789f0",
   "metadata": {},
   "outputs": [],
   "source": [
    "df_pred_test_1 = pd.concat([df_test, df_pred_1]).reset_index(drop=True)"
   ]
  },
  {
   "cell_type": "code",
   "execution_count": null,
   "id": "fa288d18-2c6d-4e47-b179-0c0f4995559d",
   "metadata": {},
   "outputs": [],
   "source": [
    "from sklearn.metrics import mean_squared_error\n",
    "from math import sqrt"
   ]
  },
  {
   "cell_type": "code",
   "execution_count": null,
   "id": "1bd163e8-2e7e-4c9a-bbec-e91fc6300d69",
   "metadata": {},
   "outputs": [],
   "source": [
    "sqrt(mean_squared_error(y_pred_1, y_test_1))"
   ]
  },
  {
   "cell_type": "code",
   "execution_count": null,
   "id": "c8fd3a0d-a314-4987-a2f1-13253dc3607c",
   "metadata": {},
   "outputs": [],
   "source": [
    "ax = sns.lineplot(data=df_pred_test_1, x=\"num_year_1\", y=\"n_cits\", hue=\"data\")\n",
    "ax.xaxis.set_major_locator(MaxNLocator(integer=True))\n",
    "ax"
   ]
  },
  {
   "cell_type": "code",
   "execution_count": null,
   "id": "2ccc5309-502f-4752-97f5-a5a3364d7a3c",
   "metadata": {},
   "outputs": [],
   "source": [
    "x_train_2 = df_train[[\"num_year_1\", \"is_open_access\"]]\n",
    "y_train_2 = df_train[\"n_cits\"]\n",
    "\n",
    "x_test_2 = df_test[[\"num_year_1\", \"is_open_access\"]]\n",
    "y_test_2 = df_test[\"n_cits\"]"
   ]
  },
  {
   "cell_type": "code",
   "execution_count": null,
   "id": "c0e7ed1b-0f99-4b5b-a4ba-6eb14b15a1ee",
   "metadata": {},
   "outputs": [],
   "source": [
    "reg.fit(x_train_2, y_train_2)"
   ]
  },
  {
   "cell_type": "code",
   "execution_count": null,
   "id": "efda1a42-0b7c-43a7-835c-28c9f218a66b",
   "metadata": {},
   "outputs": [],
   "source": [
    "y_pred_2 = reg.predict(x_test_2)\n",
    "df_pred_2 = df_test.copy()\n",
    "df_pred_2[\"data\"] = \"predicted\"\n",
    "df_pred_2[\"n_cits\"] = y_pred_2"
   ]
  },
  {
   "cell_type": "code",
   "execution_count": null,
   "id": "681d77f2-12a5-437e-afab-c39c2b023950",
   "metadata": {},
   "outputs": [],
   "source": [
    "df_pred_test_2 = pd.concat([df_test, df_pred_2]).reset_index(drop=True)"
   ]
  },
  {
   "cell_type": "code",
   "execution_count": null,
   "id": "f21d1d3e-4a78-413a-9d91-fb5c71aadb5a",
   "metadata": {},
   "outputs": [],
   "source": [
    "sqrt(mean_squared_error(y_pred_2, y_test_2))"
   ]
  },
  {
   "cell_type": "code",
   "execution_count": null,
   "id": "2c2759ed-1116-4a66-9794-e64087680f00",
   "metadata": {},
   "outputs": [],
   "source": [
    "sqrt(mean_squared_error(y_pred_1, y_test_1))"
   ]
  },
  {
   "cell_type": "code",
   "execution_count": null,
   "id": "43810114-6e8e-4ae5-8079-451be1a11ef5",
   "metadata": {},
   "outputs": [],
   "source": [
    "ax = sns.lineplot(data=df_pred_test_2, x=\"num_year_1\", y=\"n_cits\", hue=\"data\")\n",
    "ax.xaxis.set_major_locator(MaxNLocator(integer=True))\n",
    "ax"
   ]
  },
  {
   "cell_type": "code",
   "execution_count": null,
   "id": "9cbf6c4a-424a-4aa3-905a-93f9bdd00926",
   "metadata": {},
   "outputs": [],
   "source": [
    "if \"practical\" not in engine.dialect.get_schema_names(engine):\n",
    "    engine.execute(db.schema.CreateSchema(\"practical\"))\n",
    "    \n",
    "df_pred_test_2.to_sql(\"intro\", con=engine, schema=\"practical\", if_exists='replace')"
   ]
  }
 ],
 "metadata": {
  "kernelspec": {
   "display_name": "Python 3 (ipykernel)",
   "language": "python",
   "name": "python3"
  },
  "language_info": {
   "codemirror_mode": {
    "name": "ipython",
    "version": 3
   },
   "file_extension": ".py",
   "mimetype": "text/x-python",
   "name": "python",
   "nbconvert_exporter": "python",
   "pygments_lexer": "ipython3",
   "version": "3.9.7"
  }
 },
 "nbformat": 4,
 "nbformat_minor": 5
}
