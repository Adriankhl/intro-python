{
 "cells": [
  {
   "cell_type": "markdown",
   "id": "cde89da3",
   "metadata": {},
   "source": [
    "## Load and read the file"
   ]
  },
  {
   "cell_type": "code",
   "execution_count": null,
   "id": "4ae79ad3",
   "metadata": {},
   "outputs": [],
   "source": [
    "with open('../data/test_file.txt', 'r', encoding='utf-8') as f:\n",
    "    file = f.read()"
   ]
  },
  {
   "cell_type": "markdown",
   "id": "e0be3ea8",
   "metadata": {},
   "source": [
    "| Mode  | Short for | Meaning                                                               |\n",
    "|-------|-----------|-----------------------------------------------------------------------|\n",
    "| `r`   | read      | Read from an existing file.                                           |\n",
    "| `w`   | write     | Write to a file. **If the file exists, its old content is removed.**  |\n",
    "| `a`   | append    | Write to the end of a file, and keep the old content.                 |"
   ]
  },
  {
   "cell_type": "code",
   "execution_count": null,
   "id": "55766a31",
   "metadata": {},
   "outputs": [],
   "source": [
    "f"
   ]
  },
  {
   "cell_type": "code",
   "execution_count": null,
   "id": "fc18d547",
   "metadata": {
    "scrolled": true
   },
   "outputs": [],
   "source": [
    "file"
   ]
  },
  {
   "cell_type": "code",
   "execution_count": null,
   "id": "9acb4bdc",
   "metadata": {
    "scrolled": true
   },
   "outputs": [],
   "source": [
    "print(file)"
   ]
  },
  {
   "cell_type": "markdown",
   "id": "aaaaa4a2",
   "metadata": {},
   "source": [
    "## Parse the file"
   ]
  },
  {
   "cell_type": "code",
   "execution_count": null,
   "id": "c87e9811",
   "metadata": {},
   "outputs": [],
   "source": [
    "rows_list = file.split('\\n')"
   ]
  },
  {
   "cell_type": "code",
   "execution_count": null,
   "id": "bcb73c30",
   "metadata": {},
   "outputs": [],
   "source": [
    "rows_list"
   ]
  },
  {
   "cell_type": "code",
   "execution_count": null,
   "id": "7e811352",
   "metadata": {},
   "outputs": [],
   "source": [
    "split_row_list = []\n",
    "for row in rows_list:\n",
    "    split_row = row.split('\\t')\n",
    "    split_row_list.append(split_row)"
   ]
  },
  {
   "cell_type": "code",
   "execution_count": null,
   "id": "a5c8351c",
   "metadata": {},
   "outputs": [],
   "source": [
    "split_row_list"
   ]
  },
  {
   "cell_type": "markdown",
   "id": "403af3bc",
   "metadata": {},
   "source": [
    "## Make each row into a dictionary"
   ]
  },
  {
   "cell_type": "code",
   "execution_count": null,
   "id": "dccf224b",
   "metadata": {},
   "outputs": [],
   "source": [
    "split_row_list_headers = split_row_list[0]\n",
    "split_row_list_body = split_row_list[1:]\n",
    "\n",
    "# Example of the function \"len\"\n",
    "len(split_row_list_headers) "
   ]
  },
  {
   "cell_type": "code",
   "execution_count": null,
   "id": "84db350e",
   "metadata": {},
   "outputs": [],
   "source": [
    "# Example of the function \"range\"\n",
    "for index in range(len(split_row_list_headers)):\n",
    "    print(index)"
   ]
  },
  {
   "cell_type": "code",
   "execution_count": null,
   "id": "b1834228",
   "metadata": {},
   "outputs": [],
   "source": [
    "# Create the dictionaries\n",
    "row_dict_list = []\n",
    "for row in split_row_list_body:\n",
    "    row_dict = {}\n",
    "    for index in range(len(split_row_list_headers)):\n",
    "        header_value = split_row_list_headers[index]\n",
    "        row_value = row[index]\n",
    "        row_dict[header_value] = row_value\n",
    "    row_dict_list.append(row_dict)"
   ]
  },
  {
   "cell_type": "code",
   "execution_count": null,
   "id": "9a2f3249",
   "metadata": {},
   "outputs": [],
   "source": [
    "row_dict_list"
   ]
  },
  {
   "cell_type": "markdown",
   "id": "e3b32584",
   "metadata": {},
   "source": [
    "## Modify the data"
   ]
  },
  {
   "cell_type": "code",
   "execution_count": null,
   "id": "78298a22",
   "metadata": {},
   "outputs": [],
   "source": [
    "new_row_dict_list = []\n",
    "for row in row_dict_list:\n",
    "    new_row = row.copy()\n",
    "    pub_date_print = row['pub_date_print']\n",
    "    if len(pub_date_print) > 4: # If the lengh of the string is greater than 4\n",
    "        new_pub_date_print = pub_date_print[:4]\n",
    "    elif len(pub_date_print) == 0: # If the lengh of the string is 0\n",
    "        new_pub_date_print = '1900'\n",
    "    else:\n",
    "        new_pub_date_print = new_row['pub_date_print']\n",
    "    new_row['pub_date_print'] = new_pub_date_print\n",
    "    new_row_dict_list.append(new_row)"
   ]
  },
  {
   "cell_type": "code",
   "execution_count": null,
   "id": "54055f0c",
   "metadata": {},
   "outputs": [],
   "source": [
    "new_row_dict_list"
   ]
  },
  {
   "cell_type": "markdown",
   "id": "64eee8ad",
   "metadata": {},
   "source": [
    "## Calculate h index"
   ]
  },
  {
   "cell_type": "code",
   "execution_count": null,
   "id": "a570ee2f",
   "metadata": {},
   "outputs": [],
   "source": [
    "n_cits_list = []\n",
    "for row in row_dict_list:\n",
    "    n_cits_string = row['n_cits']\n",
    "    n_cits_int = int(n_cits_string)\n",
    "    n_cits_list.append(n_cits_int)\n",
    "n_cits_list"
   ]
  },
  {
   "cell_type": "code",
   "execution_count": null,
   "id": "9be8071c",
   "metadata": {},
   "outputs": [],
   "source": [
    "count_dict = {}\n",
    "for number in n_cits_list:\n",
    "    count_dict[number] = 0\n",
    "count_dict"
   ]
  },
  {
   "cell_type": "code",
   "execution_count": null,
   "id": "a7e44d14",
   "metadata": {},
   "outputs": [],
   "source": [
    "for number in n_cits_list:\n",
    "    count_dict[number] += 1 # Number of times the number appears\n",
    "count_dict"
   ]
  },
  {
   "cell_type": "code",
   "execution_count": null,
   "id": "5cde2d20",
   "metadata": {},
   "outputs": [],
   "source": [
    "cantidates_list = []\n",
    "for number in count_dict:\n",
    "    if count_dict[number] >= number: # If the number of times the number appear is equal or greater than the number\n",
    "        cantidates_list.append(number)\n",
    "cantidates_list"
   ]
  },
  {
   "cell_type": "code",
   "execution_count": null,
   "id": "fbf8946e",
   "metadata": {},
   "outputs": [],
   "source": [
    "max(cantidates_list)"
   ]
  },
  {
   "cell_type": "markdown",
   "id": "6a1c4b85",
   "metadata": {},
   "source": [
    "## Write functions"
   ]
  },
  {
   "cell_type": "code",
   "execution_count": null,
   "id": "bf829ee0",
   "metadata": {},
   "outputs": [],
   "source": [
    "def reading_Function(filename):\n",
    "    ''' \n",
    "    filename: String with the name of the file\n",
    "    \n",
    "    Warning: Each row in the file must have the same number of columns\n",
    "    '''\n",
    "    with open(filename, 'r', encoding='utf-8') as f:\n",
    "        file = f.read()\n",
    "    rows_list = file.split('\\n')\n",
    "    split_row_list = []\n",
    "    for row in rows_list:\n",
    "        split_row = row.split('\\t')\n",
    "        split_row_list.append(split_row)\n",
    "    split_row_list_headers = split_row_list[0]\n",
    "    split_row_list_body = split_row_list[1:]\n",
    "    row_dict_list = []\n",
    "    for row in split_row_list_body:\n",
    "        row_dict = {}\n",
    "        for index in range(len(split_row_list_headers)):\n",
    "            header_value = split_row_list_headers[index]\n",
    "            row_value = row[index]\n",
    "            row_dict[header_value] = row_value\n",
    "        row_dict_list.append(row_dict)\n",
    "    return row_dict_list\n",
    "\n",
    "help(reading_Function)\n",
    "row_dict_list = reading_Function('../data/test_file.txt')\n",
    "row_dict_list"
   ]
  },
  {
   "cell_type": "code",
   "execution_count": null,
   "id": "307f922f",
   "metadata": {},
   "outputs": [],
   "source": [
    "def modify_Function(row_dict_list, dictionary_key, threshold_value, index_value):\n",
    "    new_row_dict_list = []\n",
    "    for row in row_dict_list:\n",
    "        new_row = row.copy()\n",
    "        pub_date_print = row[dictionary_key]\n",
    "        if len(pub_date_print) > threshold_value:\n",
    "            new_pub_date_print = pub_date_print[:index_value]\n",
    "            new_row[dictionary_key] = new_pub_date_print\n",
    "        new_row_dict_list.append(new_row)\n",
    "    return new_row_dict_list\n",
    "    \n",
    "def both_Functions(filename, dictionary_key, threshold_value, index_value):\n",
    "    row_dict_list= reading_Function(filename)\n",
    "    new_row_dict_list = modify_Function(row_dict_list, dictionary_key, threshold_value, index_value)\n",
    "    return new_row_dict_list\n",
    "\n",
    "new_row_dict_list = both_Functions('../data/test_file.txt', 'pub_date_print', 4, 4)\n",
    "new_row_dict_list"
   ]
  },
  {
   "cell_type": "code",
   "execution_count": null,
   "id": "2ef82d6d",
   "metadata": {},
   "outputs": [],
   "source": [
    "def extract_N_Cits_List(row_dict_list):\n",
    "    n_cits_list = []\n",
    "    for row in row_dict_list:\n",
    "        n_cits = int(row['n_cits'])\n",
    "        n_cits_list.append(n_cits)\n",
    "    return n_cits_list\n",
    "\n",
    "def h_Index_Function(list_of_numbers):\n",
    "    count_dict = {}\n",
    "    for number in list_of_numbers:\n",
    "        if number not in count_dict:\n",
    "            count_dict[number] = 1\n",
    "        else:\n",
    "            count_dict[number] += 1\n",
    "    h_index = 0\n",
    "    for number in count_dict:\n",
    "        if number > h_index:\n",
    "            if count_dict[number] >= number:\n",
    "                h_index = number\n",
    "    return h_index\n",
    "\n",
    "n_cits_list = extract_N_Cits_List(row_dict_list)\n",
    "h_index = h_Index_Function(n_cits_list)\n",
    "h_index"
   ]
  },
  {
   "cell_type": "markdown",
   "id": "e17525dd",
   "metadata": {},
   "source": [
    "## Write class"
   ]
  },
  {
   "cell_type": "code",
   "execution_count": null,
   "id": "8afcb172",
   "metadata": {},
   "outputs": [],
   "source": [
    "class Secret_class:\n",
    "    def __init__(self, secret):\n",
    "        self.secret = secret\n",
    "    \n",
    "    def duplicate_Secret(self):\n",
    "        self.secret += self.secret\n",
    "    \n",
    "    def print_Secret(self):\n",
    "        secret_message = 'My secret is ' + self.secret\n",
    "        print(secret_message)\n",
    "        \n",
    "my_secret = Secret_class('banana')"
   ]
  },
  {
   "cell_type": "code",
   "execution_count": null,
   "id": "eaf2a516",
   "metadata": {},
   "outputs": [],
   "source": [
    "my_secret"
   ]
  },
  {
   "cell_type": "code",
   "execution_count": null,
   "id": "8f1cdf82",
   "metadata": {},
   "outputs": [],
   "source": [
    "my_secret.secret"
   ]
  },
  {
   "cell_type": "code",
   "execution_count": null,
   "id": "dcdf6321",
   "metadata": {},
   "outputs": [],
   "source": [
    "my_secret.print_Secret()"
   ]
  },
  {
   "cell_type": "code",
   "execution_count": null,
   "id": "cf3ee424",
   "metadata": {},
   "outputs": [],
   "source": [
    "my_secret.duplicate_Secret()\n",
    "my_secret.duplicate_Secret()\n",
    "my_secret.duplicate_Secret()\n",
    "my_secret.print_Secret()\n",
    "\n",
    "my_secret.secret = 'tomato'\n",
    "my_secret.print_Secret()\n"
   ]
  },
  {
   "cell_type": "markdown",
   "id": "1ee3a4dd",
   "metadata": {},
   "source": [
    "## Write file"
   ]
  },
  {
   "cell_type": "code",
   "execution_count": null,
   "id": "9c8017ee",
   "metadata": {},
   "outputs": [],
   "source": [
    "headers_to_write_list = [\n",
    "    'pub_id',\n",
    "    'pub_type_id',\n",
    "    'source_id',\n",
    "    'book_id',\n",
    "    'proceedings_id',\n",
    "    'pub_year',\n",
    "    'pub_date',\n",
    "    'pub_date_print',\n",
    "    'pub_date_online']\n",
    "\n",
    "string_to_write = ''\n",
    "for row in new_row_dict_list[:2]:\n",
    "    row_string = ''\n",
    "    for head in headers_to_write_list:\n",
    "        row_value = row[head]\n",
    "        row_string += row_value + '\\t'\n",
    "    string_to_write += row_string[:-1] + '\\n'\n",
    "    \n",
    "while string_to_write[-1] == '\\n':\n",
    "    string_to_write = string_to_write[:-1]"
   ]
  },
  {
   "cell_type": "code",
   "execution_count": null,
   "id": "31a74dab",
   "metadata": {},
   "outputs": [],
   "source": [
    "string_to_write"
   ]
  },
  {
   "cell_type": "code",
   "execution_count": null,
   "id": "301c50c5",
   "metadata": {},
   "outputs": [],
   "source": [
    "print(string_to_write)"
   ]
  },
  {
   "cell_type": "code",
   "execution_count": null,
   "id": "219d4f25",
   "metadata": {},
   "outputs": [],
   "source": [
    "with open('../results/output.txt', 'w') as f:\n",
    "    f.write(string_to_write)"
   ]
  }
 ],
 "metadata": {
  "kernelspec": {
   "display_name": "Python 3",
   "language": "python",
   "name": "python3"
  },
  "language_info": {
   "codemirror_mode": {
    "name": "ipython",
    "version": 3
   },
   "file_extension": ".py",
   "mimetype": "text/x-python",
   "name": "python",
   "nbconvert_exporter": "python",
   "pygments_lexer": "ipython3",
   "version": "3.7.10"
  }
 },
 "nbformat": 4,
 "nbformat_minor": 5
}
