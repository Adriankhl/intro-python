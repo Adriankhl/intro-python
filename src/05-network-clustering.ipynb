{
 "cells": [
  {
   "cell_type": "markdown",
   "id": "970827a0",
   "metadata": {},
   "source": [
    "We first load the packages that we will use in this notebook"
   ]
  },
  {
   "cell_type": "code",
   "execution_count": null,
   "id": "4d7d0a8f",
   "metadata": {},
   "outputs": [],
   "source": [
    "from pathlib import Path # Easy path manipulation\n",
    "import pandas as pd      # Data handling\n",
    "import igraph as ig      # Network analysis\n",
    "import leidenalg as la   # Clustering"
   ]
  },
  {
   "cell_type": "markdown",
   "id": "c71677ec",
   "metadata": {},
   "source": [
    "# Creating the network"
   ]
  },
  {
   "cell_type": "markdown",
   "id": "ac6c3665",
   "metadata": {},
   "source": [
    "We will be working with the same set of publications. These are all publications on scientometrics/bibliometrics. In addition to the publications themselves, all citation relations between these publications are now also available. As previously, we will read in the data using the `pandas` library (made available as `pd`)."
   ]
  },
  {
   "cell_type": "code",
   "execution_count": null,
   "id": "b2c245e7",
   "metadata": {},
   "outputs": [],
   "source": [
    "data_dir = Path('.') / '..' / 'data'\n",
    "\n",
    "# Read publications\n",
    "publications_df = pd.read_csv(data_dir / 'publications.txt', sep='\\t', encoding='utf-8')"
   ]
  },
  {
   "cell_type": "markdown",
   "id": "de4095c8",
   "metadata": {},
   "source": [
    "<div class=\"alert alert-info\">\n",
    "    Read the data in <code>citations.txt</code> and store it in the variable <code>citations_df</code>.\n",
    "</div>"
   ]
  },
  {
   "cell_type": "code",
   "execution_count": null,
   "id": "ea256fa0",
   "metadata": {},
   "outputs": [],
   "source": []
  },
  {
   "cell_type": "markdown",
   "id": "6850d570",
   "metadata": {},
   "source": [
    "Let's have a look again at what information was contained in `publications_df`."
   ]
  },
  {
   "cell_type": "code",
   "execution_count": null,
   "id": "0c7377e1",
   "metadata": {
    "scrolled": true
   },
   "outputs": [],
   "source": [
    "publications_df.head(5)"
   ]
  },
  {
   "cell_type": "markdown",
   "id": "cc2965cf",
   "metadata": {},
   "source": [
    "<div class=\"alert alert-info\">\n",
    "    Checkout what is in <code>citations_df</code>.\n",
    "</div>"
   ]
  },
  {
   "cell_type": "code",
   "execution_count": null,
   "id": "da519873",
   "metadata": {},
   "outputs": [],
   "source": []
  },
  {
   "cell_type": "markdown",
   "id": "1b81d169",
   "metadata": {},
   "source": [
    "We now have all the information we need to create a citation network. Each node will be a publication, and each edge will be a citation. The citations will be directed, pointing from the citing publication to the cited publication.\n",
    "\n",
    "We will construct the network using `ig.Graph.DataFrame`. This method will consider the first column of `publication_df` as the name of the node, and the first two columns of `citations_df` as respectively the source and target name of each node, corresponding to the citing and the cited publication in our case."
   ]
  },
  {
   "cell_type": "code",
   "execution_count": null,
   "id": "6d23a56d",
   "metadata": {},
   "outputs": [],
   "source": [
    "G = ig.Graph.DataFrame(edges=citations_df, directed=True,\n",
    "                       vertices=publications_df)"
   ]
  },
  {
   "cell_type": "markdown",
   "id": "ae95b9e3",
   "metadata": {},
   "source": [
    "It appears we have some missing publications in `publications_df`. That is, some edges refer to a `paper_id` that is not contained in `publications_df`. The reason is simple: `citations_df` contains all references from all papers in `publications_df`, that is, also including references to publications that are not contained in `publications_df`. Let us get the the citations that are only within the set of papers in `publications_df`."
   ]
  },
  {
   "cell_type": "code",
   "execution_count": null,
   "id": "320bff6d",
   "metadata": {},
   "outputs": [],
   "source": [
    "internal_citations_df = citations_df[citations_df['cited_paper_id'].isin(publications_df['paper_id'])]\n",
    "G = ig.Graph.DataFrame(edges=internal_citations_df, directed=True,\n",
    "                       vertices=publications_df)"
   ]
  },
  {
   "cell_type": "markdown",
   "id": "522f03bb",
   "metadata": {},
   "source": [
    "Now `G` contains our citation network, and you can start doing some analysis. Let us first check if the number of nodes and edges are as we expect them to be based on the dataframes that we loaded. In `igraph` nodes are called *vertices* and links are called *edges*."
   ]
  },
  {
   "cell_type": "code",
   "execution_count": null,
   "id": "1f8fb740",
   "metadata": {},
   "outputs": [],
   "source": [
    "# Check number of nodes\n",
    "print(\"Number of nodes: \", G.vcount())\n",
    "print(\"Number of rows in publications_df: \", publications_df.shape[0])\n",
    "\n",
    "# Check number of edges\n",
    "print(\"Number of edges: \", G.ecount())\n",
    "print(\"Number of rows in citations_df: \", citations_df.shape[0])"
   ]
  },
  {
   "cell_type": "markdown",
   "id": "a9eb1cd3",
   "metadata": {},
   "source": [
    "# Basic graph operations"
   ]
  },
  {
   "cell_type": "markdown",
   "id": "a0315a74",
   "metadata": {},
   "source": [
    "As said, `ig.Graph.DataFrame` considers the first column of `publications_df` to be the vertex name. Each node is also identified with a specific integer position, as usual 0-based. We can query the first node as follows:"
   ]
  },
  {
   "cell_type": "code",
   "execution_count": null,
   "id": "aa94ea1c",
   "metadata": {
    "scrolled": true
   },
   "outputs": [],
   "source": [
    "G.vs[0]"
   ]
  },
  {
   "cell_type": "markdown",
   "id": "81e1bba4",
   "metadata": {},
   "source": [
    "This now shows a lot of information, most of it coming from the `publications_df`, and they are stored as vertex attributes. You can also just print the attributes, which provides a bit better overview."
   ]
  },
  {
   "cell_type": "code",
   "execution_count": null,
   "id": "0d731331",
   "metadata": {
    "scrolled": true
   },
   "outputs": [],
   "source": [
    "G.vs[0].attributes()"
   ]
  },
  {
   "cell_type": "markdown",
   "id": "4e34bfe4",
   "metadata": {},
   "source": [
    "As you can see the `name` of the vertex is `1481577014`, which was the first row in `publications_df`. Also all the other information that was contained in `publications_df` is now also available as vertex attributes. Something similar holds for edges, but in this case we didn't supply any additional attributes, such as a weight."
   ]
  },
  {
   "cell_type": "code",
   "execution_count": null,
   "id": "f3c69176",
   "metadata": {},
   "outputs": [],
   "source": [
    "G.es[0]"
   ]
  },
  {
   "cell_type": "markdown",
   "id": "debd0c8e",
   "metadata": {},
   "source": [
    "The endpoints of the edge are available as `source` and `target` respectively:"
   ]
  },
  {
   "cell_type": "code",
   "execution_count": null,
   "id": "3cf42766",
   "metadata": {},
   "outputs": [],
   "source": [
    "G.es[0].source, G.es[0].target"
   ]
  },
  {
   "cell_type": "markdown",
   "id": "7d367b0d",
   "metadata": {},
   "source": [
    "These are just integer identifiers of the nodes, and you can see to which publication they refer by passing it back to the `vs`:"
   ]
  },
  {
   "cell_type": "code",
   "execution_count": null,
   "id": "07cb8426",
   "metadata": {
    "scrolled": true
   },
   "outputs": [],
   "source": [
    "G.vs[G.es[0].source]"
   ]
  },
  {
   "cell_type": "markdown",
   "id": "584cad98",
   "metadata": {},
   "source": [
    "You can easily also get the information of vertex attributes for all vertices. For example, if we want to get the `name` attribute for all vertices we can do:"
   ]
  },
  {
   "cell_type": "code",
   "execution_count": null,
   "id": "f824ff9c",
   "metadata": {},
   "outputs": [],
   "source": [
    "G.vs['name']"
   ]
  },
  {
   "cell_type": "markdown",
   "id": "75f892ed",
   "metadata": {},
   "source": [
    "This is now just an ordinary Python list."
   ]
  },
  {
   "cell_type": "markdown",
   "id": "9b0a536c",
   "metadata": {},
   "source": [
    "Sometimes it is necessary to selection a certain subset of nodes, and restrict the graph to those nodes. For instance, perhaps we are interested only in publications that have appeared in `Scientometrics`:"
   ]
  },
  {
   "cell_type": "code",
   "execution_count": null,
   "id": "7a243c9a",
   "metadata": {},
   "outputs": [],
   "source": [
    "scientometrics_nodes = G.vs.select(journal_title_eq = 'Scientometrics')"
   ]
  },
  {
   "cell_type": "markdown",
   "id": "9aeee908",
   "metadata": {},
   "source": [
    "Here, in `G.vs.select` the `journal_title` refers to a vertex attribute, while `eq` indicates that we want to select only nodes for which `journal_title` is *eq*ual to the provided value `'Scientometrics'`. As usual, you can always check out the documentation for more information (just hit `Shift-Tab` when the cursor is on the function)."
   ]
  },
  {
   "cell_type": "markdown",
   "id": "540848f6",
   "metadata": {},
   "source": [
    "<div class=\"alert alert-info\">\n",
    "    Try to list all <code>paper_title</code>s in <code>scientometrics_nodes</code>.\n",
    "</div>"
   ]
  },
  {
   "cell_type": "code",
   "execution_count": null,
   "id": "f97241e4",
   "metadata": {},
   "outputs": [],
   "source": []
  },
  {
   "cell_type": "markdown",
   "id": "260924bd",
   "metadata": {},
   "source": [
    "We can now easily get the (induced) subgraph of only these nodes. The subgraph contains all the indicated nodes and all links between these nodes."
   ]
  },
  {
   "cell_type": "code",
   "execution_count": null,
   "id": "52abecb4",
   "metadata": {},
   "outputs": [],
   "source": [
    "G_scientometrics = G.subgraph(scientometrics_nodes)\n",
    "print(\"Nodes:\", G_scientometrics.vcount(), \"Edges:\", G_scientometrics.ecount())"
   ]
  },
  {
   "cell_type": "markdown",
   "id": "8a61f745",
   "metadata": {},
   "source": [
    "Let us start doing more structural analyses. Let us see if two nodes are connected by some (shortest) citation path."
   ]
  },
  {
   "cell_type": "code",
   "execution_count": null,
   "id": "462d9e30",
   "metadata": {},
   "outputs": [],
   "source": [
    "paths = G.get_shortest_paths(0, 1)\n",
    "paths"
   ]
  },
  {
   "cell_type": "markdown",
   "id": "7aa9a163",
   "metadata": {},
   "source": [
    "The results show that there is one shortest path between node 0 and node 1. The entries of this list contain the node identifiers of all the publications encountered on this shortest path."
   ]
  },
  {
   "cell_type": "code",
   "execution_count": null,
   "id": "94129a52",
   "metadata": {},
   "outputs": [],
   "source": [
    "G.vs[paths[0]]['paper_title']"
   ]
  },
  {
   "cell_type": "markdown",
   "id": "81a9aa6a",
   "metadata": {},
   "source": [
    "<div class=\"alert alert-info\">\n",
    "    Get the path between node <code>0</code> and node <code>2</code>.\n",
    "</div>"
   ]
  },
  {
   "cell_type": "code",
   "execution_count": null,
   "id": "88ee97f1",
   "metadata": {},
   "outputs": [],
   "source": []
  },
  {
   "cell_type": "markdown",
   "id": "609e76e0",
   "metadata": {},
   "source": [
    "You now get a warning, saying that some nodes cannot be reached. This means that not all publications are connected to each. If there are paths between all pairs of nodes, the graph is said to be connected. In our case, our graph is apparently not connected."
   ]
  },
  {
   "cell_type": "code",
   "execution_count": null,
   "id": "ca207fa9",
   "metadata": {},
   "outputs": [],
   "source": [
    "G.is_connected()"
   ]
  },
  {
   "cell_type": "markdown",
   "id": "72486cc9",
   "metadata": {},
   "source": [
    "Let us consider the separate parts of the network that are connected. These separate parts are called connected components (rather confusingly called `clusters` in `igraph`). In this case, we ignore the direction for all links, and just wonder whether nodes are connected through an undirected path. These are called \"weakly\" connected components."
   ]
  },
  {
   "cell_type": "code",
   "execution_count": null,
   "id": "35544ef9",
   "metadata": {},
   "outputs": [],
   "source": [
    "components = G.clusters(mode=ig.WEAK)"
   ]
  },
  {
   "cell_type": "markdown",
   "id": "89d44532",
   "metadata": {},
   "source": [
    "Now `components` contains a partition of the nodes into separate connected components. Let us see how many components there are"
   ]
  },
  {
   "cell_type": "code",
   "execution_count": null,
   "id": "be1b7fc0",
   "metadata": {},
   "outputs": [],
   "source": [
    "len(components)"
   ]
  },
  {
   "cell_type": "markdown",
   "id": "c9eacd58",
   "metadata": {},
   "source": [
    "That is quite a bit of different number of components. Let's check out how large they all are"
   ]
  },
  {
   "cell_type": "code",
   "execution_count": null,
   "id": "71a7fe42",
   "metadata": {},
   "outputs": [],
   "source": [
    "components.sizes()"
   ]
  },
  {
   "cell_type": "markdown",
   "id": "78816b2a",
   "metadata": {},
   "source": [
    "As you can see, there is one very large component, consisting of 29219 nodes, while most others consist of only a single publication. Let us take the subgraph of the largest connected components, often called the *giant connected component*."
   ]
  },
  {
   "cell_type": "code",
   "execution_count": null,
   "id": "4117fd4e",
   "metadata": {},
   "outputs": [],
   "source": [
    "H = components.giant()"
   ]
  },
  {
   "cell_type": "markdown",
   "id": "812af52a",
   "metadata": {},
   "source": [
    "<div class=\"alert alert-info\">\n",
    "    How many nodes and edges are in the giant component <code>H</code>?\n",
    "</div>"
   ]
  },
  {
   "cell_type": "code",
   "execution_count": null,
   "id": "90f9ea87",
   "metadata": {},
   "outputs": [],
   "source": []
  },
  {
   "cell_type": "markdown",
   "id": "77d0cf79",
   "metadata": {},
   "source": [
    "Now let us check if `H` is connected, as expected"
   ]
  },
  {
   "cell_type": "code",
   "execution_count": null,
   "id": "f7bca30f",
   "metadata": {},
   "outputs": [],
   "source": [
    "H.is_connected()"
   ]
  },
  {
   "cell_type": "markdown",
   "id": "f6105bf6",
   "metadata": {},
   "source": [
    "<div class=\"alert alert-info\">\n",
    "    Any idea why <code>H.is_connected()</code> returned <code>False</code>? Can you correct the code?\n",
    "</div>"
   ]
  },
  {
   "cell_type": "code",
   "execution_count": null,
   "id": "a50a34d8",
   "metadata": {},
   "outputs": [],
   "source": []
  },
  {
   "cell_type": "markdown",
   "id": "d2269db6",
   "metadata": {},
   "source": [
    "# Clustering"
   ]
  },
  {
   "cell_type": "markdown",
   "id": "ca8874e3",
   "metadata": {},
   "source": [
    "The Leiden algorithm is implemented directly in `igraph`. However, this is limited to undirected graphs only. The implementation available from `leidenalg` is more extensive, but is also a bit slower. We will first briefly work with the `igraph` implementation, and then switch to the `leidenalg` implementation."
   ]
  },
  {
   "cell_type": "markdown",
   "id": "2dcd1fe9",
   "metadata": {},
   "source": [
    "We first need to make the graph undirected."
   ]
  },
  {
   "cell_type": "code",
   "execution_count": null,
   "id": "518f8c9f",
   "metadata": {},
   "outputs": [],
   "source": [
    "H_u = H.copy()       # We first make a copy\n",
    "H_u.to_undirected()  # because the graph is changed in-place"
   ]
  },
  {
   "cell_type": "markdown",
   "id": "250f3d54",
   "metadata": {},
   "source": [
    "Before we cluster the network, we want to ensure that we have reproducible results. Each run of a clustering algorithm may return (slightly) different results. Especially to ensure we are all looking at identical results, we can therefore seed the random number generator."
   ]
  },
  {
   "cell_type": "code",
   "execution_count": null,
   "id": "18f05de8",
   "metadata": {},
   "outputs": [],
   "source": [
    "import random\n",
    "ig.set_random_number_generator(random)"
   ]
  },
  {
   "cell_type": "markdown",
   "id": "3cfb7ec5",
   "metadata": {},
   "source": [
    "We can then simply cluster the network"
   ]
  },
  {
   "cell_type": "code",
   "execution_count": null,
   "id": "a05fab9f",
   "metadata": {},
   "outputs": [],
   "source": [
    "random.seed(0)\n",
    "clusters = H_u.community_leiden()"
   ]
  },
  {
   "cell_type": "markdown",
   "id": "22a0e2cf",
   "metadata": {},
   "source": [
    "The variable `clusters` is of the same type as the `components` that we saw earlier. Both provide a partition of a network."
   ]
  },
  {
   "cell_type": "markdown",
   "id": "5db8008a",
   "metadata": {},
   "source": [
    "<div class=\"alert alert-info\">\n",
    "    How many clusters were found?\n",
    "</div>"
   ]
  },
  {
   "cell_type": "code",
   "execution_count": null,
   "id": "5565be84",
   "metadata": {},
   "outputs": [],
   "source": []
  },
  {
   "cell_type": "markdown",
   "id": "7fe7c672",
   "metadata": {},
   "source": [
    "The number of clusters is exactly equal to the number of nodes! This is because the method `community_leiden` by default uses a specific method (CPM) for which you explicitly need to set a specific resolution parameter. The deafult resolution parameter is 1, and it then typically results in equally many clusters as nodes. Let us try again with some smaller resolution parameters"
   ]
  },
  {
   "cell_type": "code",
   "execution_count": null,
   "id": "d29468f9",
   "metadata": {},
   "outputs": [],
   "source": [
    "random.seed(0)\n",
    "clusters = H_u.community_leiden(resolution_parameter=0.1)\n",
    "len(clusters)"
   ]
  },
  {
   "cell_type": "markdown",
   "id": "988a4e25",
   "metadata": {},
   "source": [
    "This is perhaps still a bit much. Let's reduce it further."
   ]
  },
  {
   "cell_type": "code",
   "execution_count": null,
   "id": "78b3c875",
   "metadata": {},
   "outputs": [],
   "source": [
    "random.seed(0)\n",
    "clusters = H_u.community_leiden(resolution_parameter=0.01)\n",
    "len(clusters)"
   ]
  },
  {
   "cell_type": "markdown",
   "id": "502e7a77",
   "metadata": {},
   "source": [
    "This is still a bit much, but perhaps there are simply a lot of small clusters, similar to what we saw in the `components`."
   ]
  },
  {
   "cell_type": "code",
   "execution_count": null,
   "id": "f2ab0ca1",
   "metadata": {},
   "outputs": [],
   "source": [
    "sorted(clusters.sizes(), reverse=True)"
   ]
  },
  {
   "cell_type": "markdown",
   "id": "e2bfc3c5",
   "metadata": {},
   "source": [
    "This is perhaps a reasonable resolution to explore a bit further. Now we are just going to get the indices of each cluster in sort order."
   ]
  },
  {
   "cell_type": "code",
   "execution_count": null,
   "id": "3d969f8d",
   "metadata": {},
   "outputs": [],
   "source": [
    "import numpy as np\n",
    "sizes = np.array(clusters.sizes())\n",
    "size_rank = np.argsort(sizes)[::-1]\n",
    "size_rank[:10]"
   ]
  },
  {
   "cell_type": "markdown",
   "id": "465469f7",
   "metadata": {},
   "source": [
    "Apparently cluster 227 is the largest, then cluster number 127, folowed by 267 et cetera. Let's check the sizes of those 10 largest clusters to confirm."
   ]
  },
  {
   "cell_type": "code",
   "execution_count": null,
   "id": "054cb07a",
   "metadata": {},
   "outputs": [],
   "source": [
    "sizes[size_rank[:10]]"
   ]
  },
  {
   "cell_type": "markdown",
   "id": "ddd92509",
   "metadata": {},
   "source": [
    "Now we can get separate subgraphs for all clusters. Let us first take a closer loook to the largest cluster"
   ]
  },
  {
   "cell_type": "code",
   "execution_count": null,
   "id": "523c91ad",
   "metadata": {},
   "outputs": [],
   "source": [
    "H_cluster = clusters.subgraph(size_rank[0])\n",
    "print(\"Nodes:\", H_cluster.vcount(), \"Edges:\", H_cluster.ecount())"
   ]
  },
  {
   "cell_type": "markdown",
   "id": "21bb0e0d",
   "metadata": {},
   "source": [
    "This is also sufficiently small to be able to plot the network."
   ]
  },
  {
   "cell_type": "code",
   "execution_count": null,
   "id": "c489e953",
   "metadata": {},
   "outputs": [],
   "source": [
    "ig.plot(H_cluster,\n",
    "        vertex_size=7, \n",
    "        vertex_frame_color='white', edge_color='light gray')"
   ]
  },
  {
   "cell_type": "markdown",
   "id": "fd45585a",
   "metadata": {},
   "source": [
    "As you can see, this is quite a hairball. This will be the case for most of the clusters: they are fairly well connected among each other after all."
   ]
  },
  {
   "cell_type": "markdown",
   "id": "cacbeaf6",
   "metadata": {},
   "source": [
    "Let us try to make sense of this cluster. Let us take a look at some publications in the cluster"
   ]
  },
  {
   "cell_type": "code",
   "execution_count": null,
   "id": "c4fdf826",
   "metadata": {},
   "outputs": [],
   "source": [
    "cluster_pubs = H_cluster.get_vertex_dataframe()\n",
    "cluster_pubs.sort_values('n_cits', ascending=False)[['authors', 'journal_title', 'pub_year', 'paper_title']].head(20)"
   ]
  },
  {
   "cell_type": "markdown",
   "id": "ff139742",
   "metadata": {},
   "source": [
    "This cluster seems to revolve around the h-index."
   ]
  },
  {
   "cell_type": "markdown",
   "id": "2341cf38",
   "metadata": {},
   "source": [
    "<div class=\"alert alert-info\">\n",
    "    See for yourself what clusters 1-4 are about.\n",
    "</div>"
   ]
  },
  {
   "cell_type": "code",
   "execution_count": null,
   "id": "9fb25a07",
   "metadata": {},
   "outputs": [],
   "source": []
  },
  {
   "cell_type": "markdown",
   "id": "ff1a8ba5",
   "metadata": {},
   "source": [
    "Let us see how we can work with `leidenalg`. This package is a bit more flexible, and we will see during the VOSviewer practical session how this will prove useful. We now no longer have to work with the undirected network `H_u`, since the `leidenalg` package also supported directed edges. In this case the directionality doesn't matter for the results though."
   ]
  },
  {
   "cell_type": "code",
   "execution_count": null,
   "id": "d8e528df",
   "metadata": {},
   "outputs": [],
   "source": [
    "clusters = la.find_partition(H, la.CPMVertexPartition, resolution_parameter=0.01, seed=0)\n",
    "len(clusters)"
   ]
  },
  {
   "cell_type": "markdown",
   "id": "3fef23ca",
   "metadata": {},
   "source": [
    "The second argument to `find_partition`, specifies the type of objective function we try to optimise, which in this case is the `CPMVertexPartition`. There are also other objective functions that `leidenalg` can optimise, but we will not cover those."
   ]
  },
  {
   "cell_type": "markdown",
   "id": "e8602f48",
   "metadata": {},
   "source": [
    "Let us check again the sizes"
   ]
  },
  {
   "cell_type": "code",
   "execution_count": null,
   "id": "387a66aa",
   "metadata": {},
   "outputs": [],
   "source": [
    "clusters.sizes()"
   ]
  },
  {
   "cell_type": "markdown",
   "id": "98f71a18",
   "metadata": {},
   "source": [
    "As you can see, these results are already sorted, so there's not need to sort them ourselves. The results are a bit different than from the `igraph` implementation, but let's see how different they are."
   ]
  },
  {
   "cell_type": "markdown",
   "id": "c767e9f2",
   "metadata": {},
   "source": [
    "Let us again take a closer look to the largest cluster."
   ]
  },
  {
   "cell_type": "code",
   "execution_count": null,
   "id": "1a03bed5",
   "metadata": {},
   "outputs": [],
   "source": [
    "H_cluster = clusters.subgraph(0)\n",
    "cluster_pubs = H_cluster.get_vertex_dataframe()\n",
    "cluster_pubs.sort_values('n_cits', ascending=False)[['authors', 'journal_title', 'pub_year', 'paper_title']].head(20)"
   ]
  },
  {
   "cell_type": "markdown",
   "id": "b9742e8b",
   "metadata": {},
   "source": [
    "<div class=\"alert alert-info\">\n",
    "    Again see for yourself what clusters 1-4 are about. What are the differences with the results obtained using <code>igraph</code>?\n",
    "</div>"
   ]
  },
  {
   "cell_type": "code",
   "execution_count": null,
   "id": "9cb1b260",
   "metadata": {},
   "outputs": [],
   "source": []
  },
  {
   "cell_type": "markdown",
   "id": "122c1198",
   "metadata": {},
   "source": [
    "## Weighted clustering"
   ]
  },
  {
   "cell_type": "markdown",
   "id": "0d1cee7f",
   "metadata": {},
   "source": [
    "For clustering publications throughout an entire bibliographic database we normally use edge weights of $\\frac{1}{r_i}$ where $r_i$ is the number of references of publication $i$. Let us also create those weights for this network."
   ]
  },
  {
   "cell_type": "markdown",
   "id": "83be897d",
   "metadata": {},
   "source": [
    "First, we need to get the number of references. We already have the number of references available in the vertex attribute `n_refs`. This is the total number of references, also including many citation links that are not included in this network. The number of links of a node is called the *degree*. In this case, we are specifically interested in the number of outgoing links, called the *out degree*. Let us compare this out degree to the total number of references `n_refs`."
   ]
  },
  {
   "cell_type": "code",
   "execution_count": null,
   "id": "6d8a9d0a",
   "metadata": {},
   "outputs": [],
   "source": [
    "out_degree = np.array(H.vs.degree(mode='out'))\n",
    "in_degree = np.array(H.vs.degree(mode='in'))\n",
    "n_refs = np.array(H.vs['n_refs'])"
   ]
  },
  {
   "cell_type": "markdown",
   "id": "f30ab1eb",
   "metadata": {},
   "source": [
    "Let's see what proportion of the references are included in this dataset."
   ]
  },
  {
   "cell_type": "code",
   "execution_count": null,
   "id": "1164be05",
   "metadata": {},
   "outputs": [],
   "source": [
    "int_cov = out_degree/n_refs\n",
    "np.mean(int_cov[~np.isnan(int_cov)])\n",
    "H.vs['int_cov'] = int_cov"
   ]
  },
  {
   "cell_type": "code",
   "execution_count": null,
   "id": "ff7e0d4e",
   "metadata": {},
   "outputs": [],
   "source": [
    "H.es['weight'] = [1.0/out_degree[e.source] for e in H.es]"
   ]
  },
  {
   "cell_type": "markdown",
   "id": "71eb4ac3",
   "metadata": {},
   "source": [
    "The sum of all weights, is called the *weighted degree* or *strength*. If we did our calculations correctly, the total weight of all outgoing links per node should now sum to 1. Let's check."
   ]
  },
  {
   "cell_type": "code",
   "execution_count": null,
   "id": "be4076a4",
   "metadata": {},
   "outputs": [],
   "source": [
    "H.strength(mode='out', weights='weight')"
   ]
  },
  {
   "cell_type": "markdown",
   "id": "d9ee8b07",
   "metadata": {},
   "source": [
    "Now let us cluster the network using these weights."
   ]
  },
  {
   "cell_type": "code",
   "execution_count": null,
   "id": "1c246748",
   "metadata": {},
   "outputs": [],
   "source": [
    "clusters = la.find_partition(H, la.CPMVertexPartition, resolution_parameter=0.01, weights='weight', seed=0)\n",
    "len(clusters)"
   ]
  },
  {
   "cell_type": "markdown",
   "id": "8d8667ca",
   "metadata": {},
   "source": [
    "We now get many more clusters. This is because we are now using weights that are much lower than 1. If no weights are specified, a default weight of 1 is implicitly used. Let us therefore decrease the resolution parameter further again."
   ]
  },
  {
   "cell_type": "code",
   "execution_count": null,
   "id": "f8624372",
   "metadata": {},
   "outputs": [],
   "source": [
    "clusters = la.find_partition(H, la.CPMVertexPartition, resolution_parameter=0.0005, weights='weight', seed=0)\n",
    "len(clusters)"
   ]
  },
  {
   "cell_type": "code",
   "execution_count": null,
   "id": "85e88938",
   "metadata": {},
   "outputs": [],
   "source": [
    "clusters.sizes()"
   ]
  },
  {
   "cell_type": "markdown",
   "id": "8cb71f6d",
   "metadata": {},
   "source": [
    "<div class=\"alert alert-info\">\n",
    "    Check out the clusters again. Do you think the difference are small or large, compared to the previous results without weights? Checkout cluster number 4. What seems special about it?\n",
    "</div>"
   ]
  },
  {
   "cell_type": "code",
   "execution_count": null,
   "id": "145cd39f",
   "metadata": {},
   "outputs": [],
   "source": []
  },
  {
   "cell_type": "markdown",
   "id": "d0375bf3",
   "metadata": {},
   "source": [
    "## Extended direct citation"
   ]
  },
  {
   "cell_type": "markdown",
   "id": "7d3ab61c",
   "metadata": {},
   "source": [
    "So far, we have only concentrated on the citations within the set of publications given by `publications_df`. However, the external citations, referring to publications *not* contained in `publications_df`, may also contain relevant information. For example, two publications from `publications_df` may not appear strongly related when looking at internal citations only, while they are connected through many external citations. This approach is sometimes called \"extended direct citation\". This is also what we use when clustering publications in an entire bibliometric database."
   ]
  },
  {
   "cell_type": "markdown",
   "id": "475dad11",
   "metadata": {},
   "source": [
    "Let us first establish the necessary dataframe that contains all relevant publications (both internal and external)."
   ]
  },
  {
   "cell_type": "code",
   "execution_count": null,
   "id": "4b980305",
   "metadata": {},
   "outputs": [],
   "source": [
    "# Get unique paper_id of both citing and cited paper by stacking them\n",
    "all_pubs_df = citations_df.stack().reset_index(drop=True).drop_duplicates()\n",
    "all_pubs_df.name = 'paper_id'\n",
    "\n",
    "# Merge it with original publication information\n",
    "all_pubs_df = pd.merge(all_pubs_df, publications_df, on='paper_id', how='outer', indicator='type')\n",
    "\n",
    "# Clarify type of publication: a publication is external if it isn't included in \n",
    "# the original publications_df, but it only included because it is a reference of\n",
    "# one of those publications\n",
    "all_pubs_df['type'] = all_pubs_df['type'].replace({'both': 'internal',\n",
    "                                                   'right_only': 'internal',\n",
    "                                                   'left_only': 'external'})"
   ]
  },
  {
   "cell_type": "markdown",
   "id": "7c99c14a",
   "metadata": {},
   "source": [
    "We can now create the extended graph, using all citations contained in `citations_df`."
   ]
  },
  {
   "cell_type": "code",
   "execution_count": null,
   "id": "9925d3a3",
   "metadata": {},
   "outputs": [],
   "source": [
    "G_extended = ig.Graph.DataFrame(edges=citations_df, directed=True,\n",
    "                                vertices=all_pubs_df)\n",
    "print(\"Nodes:\", G_extended.vcount(), \"Edges:\", G_extended.ecount())"
   ]
  },
  {
   "cell_type": "markdown",
   "id": "04c02f94",
   "metadata": {},
   "source": [
    "As you can see, there are now many more nodes in the extended graph. We previously had 30021 nodes, and we now have a little over 130 000 additional publications included."
   ]
  },
  {
   "cell_type": "markdown",
   "id": "4c22f723",
   "metadata": {},
   "source": [
    "The idea behind clustering using extended direct citations is that we are interested only in the internal publications, but we use the external publications to inform the clustering of the internal publications. Normally, the clustering method considers it a cost to create large clusters. This cost is essentially indicated by the `resolution_parameter`, and with a higher `resolution_parameter`, there is a larger cost, leading to smaller clusters. However, when using extended direct citations, we only care about this for the internal publications, not for the external publications. We therefore specify a weight of 1 for internal publications, and a weight of 0 for external publications. This means that the clustering will not take the inclusion of external publications as a cost."
   ]
  },
  {
   "cell_type": "code",
   "execution_count": null,
   "id": "0d6d45cf",
   "metadata": {},
   "outputs": [],
   "source": [
    "G_extended.vs['weight'] = [1 if v['type'] == 'internal' else 0 for v in G_extended.vs]"
   ]
  },
  {
   "cell_type": "markdown",
   "id": "51329b54",
   "metadata": {},
   "source": [
    "Let us again take the weighted approach we introduced earlier."
   ]
  },
  {
   "cell_type": "code",
   "execution_count": null,
   "id": "1d00f927",
   "metadata": {},
   "outputs": [],
   "source": [
    "out_degree = G_extended.degree(mode='out')\n",
    "G_extended.es['weight'] = [1.0/out_degree[e.source] for e in G_extended.es]"
   ]
  },
  {
   "cell_type": "markdown",
   "id": "37b63a7c",
   "metadata": {},
   "source": [
    "We are now ready to run the clustering again. We now specifically use the `node_sizes` argument to provide the publication weights."
   ]
  },
  {
   "cell_type": "code",
   "execution_count": null,
   "id": "4d74d81e",
   "metadata": {},
   "outputs": [],
   "source": [
    "clusters = la.find_partition(G_extended, la.CPMVertexPartition,\n",
    "                             weights=G_extended.es['weight'], node_sizes=G_extended.vs['weight'],\n",
    "                             resolution_parameter=0.0005, seed=0)"
   ]
  },
  {
   "cell_type": "markdown",
   "id": "c04f7218",
   "metadata": {},
   "source": [
    "Let us again check out the largest cluster"
   ]
  },
  {
   "cell_type": "code",
   "execution_count": null,
   "id": "20e3092d",
   "metadata": {},
   "outputs": [],
   "source": [
    "H_cluster = clusters.subgraph(11)\n",
    "print(\"Nodes:\", H_cluster.vcount(), \" Node size: \", sum(H_cluster.vs['weight']), \"Edges:\", H_cluster.ecount())\n",
    "cluster_pubs = H_cluster.get_vertex_dataframe()\n",
    "cluster_pubs.sort_values('n_cits', ascending=False)[['authors', 'journal_title', 'pub_year', 'paper_title']].head(20)"
   ]
  },
  {
   "cell_type": "markdown",
   "id": "db07af87",
   "metadata": {},
   "source": [
    "There are in total 872 nodes in this cluster, but only 416 internal publications."
   ]
  },
  {
   "cell_type": "markdown",
   "id": "f016bf95",
   "metadata": {},
   "source": [
    "Let us plot this cluster for illustration."
   ]
  },
  {
   "cell_type": "code",
   "execution_count": null,
   "id": "729146f3",
   "metadata": {},
   "outputs": [],
   "source": [
    "layout = H_cluster.layout_auto()\n",
    "ig.plot(H_cluster, layout=layout,\n",
    "        vertex_size=7, vertex_frame_color='white', edge_arrow_size=0.5, edge_color='light gray',\n",
    "        vertex_color=H_cluster.vs['weight'], palette=ig.RainbowPalette(2))"
   ]
  },
  {
   "cell_type": "markdown",
   "id": "7c66399e",
   "metadata": {},
   "source": [
    "The blue nodes are the internal publications, while the red nodes are the external publications. Many of the external publications are peripheral, but sometimes do seem to pull in some internal publications, which otherwise are only weakly related."
   ]
  }
 ],
 "metadata": {
  "kernelspec": {
   "display_name": "Python 3 (ipykernel)",
   "language": "python",
   "name": "python3"
  },
  "language_info": {
   "codemirror_mode": {
    "name": "ipython",
    "version": 3
   },
   "file_extension": ".py",
   "mimetype": "text/x-python",
   "name": "python",
   "nbconvert_exporter": "python",
   "pygments_lexer": "ipython3",
   "version": "3.9.9"
  }
 },
 "nbformat": 4,
 "nbformat_minor": 5
}
