{
 "cells": [
  {
   "cell_type": "markdown",
   "id": "cbb2bd08",
   "metadata": {},
   "source": [
    "# Pandas introduction"
   ]
  },
  {
   "cell_type": "markdown",
   "id": "a710402b-3b26-41bf-9738-c19522c51c41",
   "metadata": {},
   "source": [
    "# 0. Introduction"
   ]
  },
  {
   "cell_type": "markdown",
   "id": "546e1e09",
   "metadata": {},
   "source": [
    "## 0.1. Why Pandas?"
   ]
  },
  {
   "cell_type": "markdown",
   "id": "00315f42",
   "metadata": {},
   "source": [
    "Pandas is a Python package that has become a standard for data science. It is very relevant because:\n",
    "+ It allows the use of data structures similar to SQL tables or spreadsheets.\n",
    "+ It includes several functions that make it easy to work with data sets.\n",
    "+ It is also possible to create graphics!"
   ]
  },
  {
   "cell_type": "markdown",
   "id": "3d01ed76",
   "metadata": {},
   "source": [
    "Pandas documentation:\n",
    "+ [Documentation](https://pandas.pydata.org/docs/)\n",
    "+ [Pandas Cheat Sheet](https://pandas.pydata.org/Pandas_Cheat_Sheet.pdf)"
   ]
  },
  {
   "cell_type": "markdown",
   "id": "f40ff572-db79-4420-8384-73fcfcaccce6",
   "metadata": {},
   "source": [
    "Some equivalances between Pandas and SQL can be found in the [Pandas documentation](https://pandas.pydata.org/docs/getting_started/comparison/comparison_with_sql.html)."
   ]
  },
  {
   "cell_type": "markdown",
   "id": "be2bcbd8",
   "metadata": {},
   "source": [
    "## 0.2. Import the package"
   ]
  },
  {
   "cell_type": "markdown",
   "id": "fdcb84da",
   "metadata": {},
   "source": [
    "<div class=\"alert alert-warning\">\n",
    "    Firstly, you have to install the package using the Anaconda Prompt:\n",
    "    <br>\n",
    "    $ pip install pandas\n",
    "</div>"
   ]
  },
  {
   "cell_type": "markdown",
   "id": "f8478e97",
   "metadata": {},
   "source": [
    "When you import a package you can import all the package."
   ]
  },
  {
   "cell_type": "code",
   "execution_count": null,
   "id": "59f9b381",
   "metadata": {},
   "outputs": [],
   "source": [
    "import pandas\n",
    "print(pandas.__version__)"
   ]
  },
  {
   "cell_type": "markdown",
   "id": "8dcb19d8",
   "metadata": {},
   "source": [
    "Or import some specific functions from the package."
   ]
  },
  {
   "cell_type": "code",
   "execution_count": null,
   "id": "726323f6",
   "metadata": {},
   "outputs": [],
   "source": [
    "from pandas import DataFrame"
   ]
  },
  {
   "cell_type": "markdown",
   "id": "89e1cf9a",
   "metadata": {},
   "source": [
    "It is also possible to rename the package, thus it is easier to invoke it. It is standard to import the Pandas package as `pd`."
   ]
  },
  {
   "cell_type": "code",
   "execution_count": null,
   "id": "135b2560",
   "metadata": {},
   "outputs": [],
   "source": [
    "import pandas as pd\n",
    "print(pd.__version__)"
   ]
  },
  {
   "cell_type": "markdown",
   "id": "6e46991b",
   "metadata": {},
   "source": [
    "## 0.3. Data structures in Pandas"
   ]
  },
  {
   "cell_type": "markdown",
   "id": "9376f54c",
   "metadata": {},
   "source": [
    "Pandas has two main data structures: Series and DataFrames."
   ]
  },
  {
   "cell_type": "markdown",
   "id": "ae377cba",
   "metadata": {},
   "source": [
    "# 1. Series"
   ]
  },
  {
   "cell_type": "markdown",
   "id": "7a47ff68",
   "metadata": {},
   "source": [
    "*Pandas series* is a labelled vector. It can be considered as a one-column SQL table. It can be built using a *list*."
   ]
  },
  {
   "cell_type": "code",
   "execution_count": null,
   "id": "83f9bd8b",
   "metadata": {},
   "outputs": [],
   "source": [
    "series1 = pd.Series(data=['a', 'b', 'c', 'd'])"
   ]
  },
  {
   "cell_type": "markdown",
   "id": "d56c331b",
   "metadata": {},
   "source": [
    "The first column denotes the index, whereas the second one the elements. It also display the data type (*dtype*). By default, object type remains when introduce a list of strings. This is not a problem, but it can cause problems when using some functions that check if it is a string type or not."
   ]
  },
  {
   "cell_type": "code",
   "execution_count": null,
   "id": "839eaa28",
   "metadata": {},
   "outputs": [],
   "source": [
    "series1"
   ]
  },
  {
   "cell_type": "markdown",
   "id": "481ff4d9",
   "metadata": {},
   "source": [
    "It is possible to explicitly request string by using the `dtype` parameter."
   ]
  },
  {
   "cell_type": "code",
   "execution_count": null,
   "id": "d69e397c",
   "metadata": {},
   "outputs": [],
   "source": [
    "series2 = pd.Series(data=['a', 'b', 'c', 'd'], dtype=pd.StringDtype())\n",
    "series2"
   ]
  },
  {
   "cell_type": "markdown",
   "id": "004cb71c",
   "metadata": {},
   "source": [
    "Furthermore, it can be changed after the creation with the `astype` method."
   ]
  },
  {
   "cell_type": "code",
   "execution_count": null,
   "id": "7e7519d3",
   "metadata": {},
   "outputs": [],
   "source": [
    "series1 = series1.astype('string')\n",
    "series1"
   ]
  },
  {
   "cell_type": "markdown",
   "id": "a27b09be",
   "metadata": {},
   "source": [
    "Specific elements of the *series* can be accessed in the same way as with lists."
   ]
  },
  {
   "cell_type": "code",
   "execution_count": null,
   "id": "da2c647b",
   "metadata": {},
   "outputs": [],
   "source": [
    "series1[1:3]"
   ]
  },
  {
   "cell_type": "markdown",
   "id": "58139999",
   "metadata": {},
   "source": [
    "You can transform a *series* into a list by using the `tolist` method."
   ]
  },
  {
   "cell_type": "code",
   "execution_count": null,
   "id": "45c0270a",
   "metadata": {},
   "outputs": [],
   "source": [
    "series1 = series1.tolist()\n",
    "series1"
   ]
  },
  {
   "cell_type": "markdown",
   "id": "f7df3d63",
   "metadata": {},
   "source": [
    "## 1.1. Methods"
   ]
  },
  {
   "cell_type": "markdown",
   "id": "afb720ec",
   "metadata": {},
   "source": [
    "There are some basic methods that can be applied to *series*:\n",
    "+ `head` - display the first elements (default 10)\n",
    "+ `sum` - sum of the *series* values\n",
    "+ `mean` - average of the *series* values\n",
    "+ `median` - median of the *series* values\n",
    "+ `count` - number of elements\n",
    "+ `unique` - get unique values\n",
    "+ `sort_values` - sort the *series* values"
   ]
  },
  {
   "cell_type": "code",
   "execution_count": null,
   "id": "f36c689c",
   "metadata": {},
   "outputs": [],
   "source": [
    "series3 = pd.Series(data=[0, 10, 1, 2, 2, 5, 3, 4, 4, 8, 1, 2, 4])\n",
    "series3"
   ]
  },
  {
   "cell_type": "code",
   "execution_count": null,
   "id": "c0313d17",
   "metadata": {},
   "outputs": [],
   "source": [
    "series3.head(3)"
   ]
  },
  {
   "cell_type": "code",
   "execution_count": null,
   "id": "2ddfa84f",
   "metadata": {},
   "outputs": [],
   "source": [
    "print(series3.sum())\n",
    "print(series3.mean())\n",
    "print(series3.median())\n",
    "print(series3.count())"
   ]
  },
  {
   "cell_type": "markdown",
   "id": "3f326e4e",
   "metadata": {},
   "source": [
    "<div class=\"alert alert-warning\">\n",
    "    When unique method is applied the result is a <i>numpy ndarray</i>. It works as a <i>series</i>, but has some differences.\n",
    "</div>"
   ]
  },
  {
   "cell_type": "code",
   "execution_count": null,
   "id": "9710b3b5",
   "metadata": {},
   "outputs": [],
   "source": [
    "series3.unique()"
   ]
  },
  {
   "cell_type": "markdown",
   "id": "5ebce866",
   "metadata": {},
   "source": [
    "You can become a *series* again without any problem."
   ]
  },
  {
   "cell_type": "code",
   "execution_count": null,
   "id": "7fbf7ff8",
   "metadata": {},
   "outputs": [],
   "source": [
    "pd.Series(series3.unique())"
   ]
  },
  {
   "cell_type": "markdown",
   "id": "26d0289e",
   "metadata": {},
   "source": [
    "By default, when `sort_values` is applied the values are ordered in ascending order. It can be changed by using the `ascending` parameter."
   ]
  },
  {
   "cell_type": "code",
   "execution_count": null,
   "id": "c11171c7",
   "metadata": {},
   "outputs": [],
   "source": [
    "series3.sort_values()"
   ]
  },
  {
   "cell_type": "code",
   "execution_count": null,
   "id": "e574b940",
   "metadata": {},
   "outputs": [],
   "source": [
    "series3.sort_values(ascending=False)"
   ]
  },
  {
   "cell_type": "markdown",
   "id": "dd2913f5",
   "metadata": {},
   "source": [
    "<div class=\"alert alert-info\">\n",
    "    It is also possible to use multiple methods by concatenating them.\n",
    "</div>"
   ]
  },
  {
   "cell_type": "code",
   "execution_count": null,
   "id": "2860c9b3",
   "metadata": {},
   "outputs": [],
   "source": [
    "pd.Series(series3.unique()).sort_values()"
   ]
  },
  {
   "cell_type": "markdown",
   "id": "bca0be7a",
   "metadata": {},
   "source": [
    "## 1.2. Plots"
   ]
  },
  {
   "cell_type": "markdown",
   "id": "e2164346",
   "metadata": {},
   "source": [
    "A plot can be generated by using the `plot` method (default line plot). "
   ]
  },
  {
   "cell_type": "code",
   "execution_count": null,
   "id": "6146ac18",
   "metadata": {},
   "outputs": [],
   "source": [
    "series3.plot()"
   ]
  },
  {
   "cell_type": "markdown",
   "id": "4a3b9b6b",
   "metadata": {},
   "source": [
    "A specific kind of plot can be specified by using the `kind` parameter, it could be:\n",
    "+ `line` - line plot\n",
    "+ `bar` - vertical bar plot\n",
    "+ `barh` - horizontal bar plot\n",
    "+ `hist` - histogram\n",
    "+ `box` - boxplot\n",
    "+ `kde` - Kernel Density Estimation plot\n",
    "+ `density` - same as ‘kde’\n",
    "+ `area` - area plot\n",
    "+ `pie` - pie plot"
   ]
  },
  {
   "cell_type": "code",
   "execution_count": null,
   "id": "17278ca7",
   "metadata": {},
   "outputs": [],
   "source": [
    "series3.plot(kind='box')"
   ]
  },
  {
   "cell_type": "markdown",
   "id": "3159097f",
   "metadata": {},
   "source": [
    "It is also possible to invoke the specific kind of plot (not all use the same name). For instance, the histogram function `plot.hist` or `hist`."
   ]
  },
  {
   "cell_type": "code",
   "execution_count": null,
   "id": "ca232692",
   "metadata": {},
   "outputs": [],
   "source": [
    "series3.plot.hist()"
   ]
  },
  {
   "cell_type": "markdown",
   "id": "081fdd02",
   "metadata": {},
   "source": [
    "<div class=\"alert alert-warning\">\n",
    "    The hist method passes additional arguments with respect to <i>plot.hist</i>.\n",
    "</div>"
   ]
  },
  {
   "cell_type": "code",
   "execution_count": null,
   "id": "637027a8",
   "metadata": {},
   "outputs": [],
   "source": [
    "series3.hist()"
   ]
  },
  {
   "cell_type": "markdown",
   "id": "737ce55d",
   "metadata": {},
   "source": [
    "# 2. DataFrame"
   ]
  },
  {
   "cell_type": "markdown",
   "id": "d7ec29c2",
   "metadata": {},
   "source": [
    "Pandas *DataFrame* is a two-dimensional data structure. Each column can contain a different data type, just like a SQL table (without having to declare any specific data type) or a spreadsheet.\n",
    "\n",
    "*It is standard to create a DataFrame using the name `df`."
   ]
  },
  {
   "cell_type": "code",
   "execution_count": null,
   "id": "f4fd1156",
   "metadata": {},
   "outputs": [],
   "source": [
    "df = pd.DataFrame({'column_1': [1, 2, 3, 4], 'column_2': ['a', 'b', 'c', 'd']})"
   ]
  },
  {
   "cell_type": "markdown",
   "id": "1853cbc9",
   "metadata": {},
   "source": [
    "The visualization of a *DataFrame* is very clear, using a table structure. As with the series, an index is also generated."
   ]
  },
  {
   "cell_type": "code",
   "execution_count": null,
   "id": "67bcbd29",
   "metadata": {},
   "outputs": [],
   "source": [
    "df"
   ]
  },
  {
   "cell_type": "markdown",
   "id": "2898bfc9",
   "metadata": {},
   "source": [
    "## 2.1. Import files as DataFrame"
   ]
  },
  {
   "cell_type": "markdown",
   "id": "b8d0abf6",
   "metadata": {},
   "source": [
    "A csv/tsv file can be easily imported by using `read_csv`. By default it recognizes the comma as the delimiter character, to indicate a different one you must use the `sep` parameter. It is important to take into account character encoding with the `encoding` parameter."
   ]
  },
  {
   "cell_type": "markdown",
   "id": "7d5a08b6",
   "metadata": {},
   "source": [
    "<div class=\"alert alert-info\">\n",
    "    The two dots (..) are used to navigate to the parent directory.\n",
    "</div>"
   ]
  },
  {
   "cell_type": "code",
   "execution_count": null,
   "id": "a8ba8ae9",
   "metadata": {},
   "outputs": [],
   "source": [
    "df = pd.read_csv('../data/publications.txt', sep='\\t', encoding='utf-8')"
   ]
  },
  {
   "cell_type": "markdown",
   "id": "b0cedc10",
   "metadata": {},
   "source": [
    "Apart from previewing the data, it also indicates its size (30021 rows × 7 columns). This can also be obtained using the `shape` method."
   ]
  },
  {
   "cell_type": "code",
   "execution_count": null,
   "id": "5395bb89",
   "metadata": {},
   "outputs": [],
   "source": [
    "df"
   ]
  },
  {
   "cell_type": "code",
   "execution_count": null,
   "id": "953d3b49",
   "metadata": {},
   "outputs": [],
   "source": [
    "df.shape"
   ]
  },
  {
   "cell_type": "markdown",
   "id": "b9eee903-2de8-4112-89f1-4b06e29654da",
   "metadata": {},
   "source": [
    "The columns can be renamed with the `rename` method."
   ]
  },
  {
   "cell_type": "code",
   "execution_count": null,
   "id": "de70b7e0-78c9-417d-9c10-6117da7e4b19",
   "metadata": {},
   "outputs": [],
   "source": [
    "df = df.rename(columns={'authors':'pub_authors'})\n",
    "df"
   ]
  },
  {
   "cell_type": "markdown",
   "id": "a901f7db",
   "metadata": {},
   "source": [
    "Checks the data types with which the file has been imported to fix possible problems."
   ]
  },
  {
   "cell_type": "markdown",
   "id": "5ded670b",
   "metadata": {},
   "source": [
    "<div class=\"alert alert-warning\">\n",
    "    Note that the presence of null values may alter some types.\n",
    "</div>"
   ]
  },
  {
   "cell_type": "code",
   "execution_count": null,
   "id": "bb1b2e3c",
   "metadata": {},
   "outputs": [],
   "source": [
    "df.dtypes"
   ]
  },
  {
   "cell_type": "markdown",
   "id": "97ed4cbc",
   "metadata": {},
   "source": [
    "As with series, you can specify the data type directly when creating the object by using the `dtype` parameter."
   ]
  },
  {
   "cell_type": "code",
   "execution_count": null,
   "id": "6f6064b7",
   "metadata": {},
   "outputs": [],
   "source": [
    "df = pd.read_csv('../data/publications.txt', sep='\\t', encoding='utf-8', dtype={'authors': 'string', 'journal_title': 'string', 'paper_title': 'string'})\n",
    "df"
   ]
  },
  {
   "cell_type": "markdown",
   "id": "7ec124c3",
   "metadata": {},
   "source": [
    "Or transform one specific column after the data import process with the `astype` method."
   ]
  },
  {
   "cell_type": "code",
   "execution_count": null,
   "id": "0a0ce398",
   "metadata": {},
   "outputs": [],
   "source": [
    "df['abstract'] = df['abstract'].astype('string')"
   ]
  },
  {
   "cell_type": "markdown",
   "id": "1c38fba9",
   "metadata": {},
   "source": [
    "Everything is fine now!"
   ]
  },
  {
   "cell_type": "code",
   "execution_count": null,
   "id": "f6b34445",
   "metadata": {},
   "outputs": [],
   "source": [
    "df.dtypes"
   ]
  },
  {
   "cell_type": "markdown",
   "id": "1c794082",
   "metadata": {},
   "source": [
    "The `describe` method is used for calculating some statistics."
   ]
  },
  {
   "cell_type": "code",
   "execution_count": null,
   "id": "809d4d15",
   "metadata": {},
   "outputs": [],
   "source": [
    "df.describe()"
   ]
  },
  {
   "cell_type": "markdown",
   "id": "8e0c32f1-8eca-4b93-8eae-d630afd7fa68",
   "metadata": {},
   "source": [
    "The `count` method can also be used to get the number of non-NA cells."
   ]
  },
  {
   "cell_type": "code",
   "execution_count": null,
   "id": "95b0ed93-6eaf-482d-b229-7ff54cd22360",
   "metadata": {},
   "outputs": [],
   "source": [
    "df.count()"
   ]
  },
  {
   "cell_type": "markdown",
   "id": "7ae90dd2",
   "metadata": {},
   "source": [
    "## 2.2. Data selection and filtering "
   ]
  },
  {
   "cell_type": "markdown",
   "id": "89f9e915-27f3-479e-bb57-c9df2bddd3ac",
   "metadata": {},
   "source": [
    "### 2.2.1. Selection"
   ]
  },
  {
   "cell_type": "markdown",
   "id": "6e0a5e96-c33e-4b83-b275-21d81e82d547",
   "metadata": {},
   "source": [
    "<div class=\"alert alert-info\">\n",
    "    Similar to <b>SQL SELECTION</b>.\n",
    "</div>"
   ]
  },
  {
   "cell_type": "markdown",
   "id": "e8009eff",
   "metadata": {},
   "source": [
    "There are some methods that can be used for selecting data (you need to specify the exact rows and/or columns that wou want to select):\n",
    "+ `[]` - select columns by name or rows by booleans\n",
    "+ `iloc[]` - select rows and columns by positions/booleans\n",
    "+ `loc[]` - select rows and columns by labels/booleans"
   ]
  },
  {
   "cell_type": "markdown",
   "id": "14afbfbc",
   "metadata": {},
   "source": [
    "It is possible to select columns by `[]`."
   ]
  },
  {
   "cell_type": "markdown",
   "id": "1a7faa4a",
   "metadata": {},
   "source": [
    "<div class=\"alert alert-warning\">\n",
    "    Note that the result is a Pandas <i>series</i>. <b>It always simplify the object</b>. It can be avoid by using a <i>list</i>.\n",
    "</div>"
   ]
  },
  {
   "cell_type": "code",
   "execution_count": null,
   "id": "6c4229d0",
   "metadata": {},
   "outputs": [],
   "source": [
    "df['paper_title']"
   ]
  },
  {
   "cell_type": "code",
   "execution_count": null,
   "id": "8a16638b",
   "metadata": {},
   "outputs": [],
   "source": [
    "df[['paper_title']]"
   ]
  },
  {
   "cell_type": "markdown",
   "id": "a0fe578e",
   "metadata": {},
   "source": [
    "To select more than one column you have to use a `list`. This data selection is useful to change the order of the columns."
   ]
  },
  {
   "cell_type": "code",
   "execution_count": null,
   "id": "6cc16290",
   "metadata": {},
   "outputs": [],
   "source": [
    "df[['paper_title', 'pub_year']]"
   ]
  },
  {
   "cell_type": "markdown",
   "id": "f6cf8e6b",
   "metadata": {},
   "source": [
    "Using `[]` you can select rows by using a *list* of booleans."
   ]
  },
  {
   "cell_type": "code",
   "execution_count": null,
   "id": "10b971ea",
   "metadata": {},
   "outputs": [],
   "source": [
    "df[[True, False, False, False, True]+[False]*30016]"
   ]
  },
  {
   "cell_type": "markdown",
   "id": "73dd65c7",
   "metadata": {},
   "source": [
    "However, the rows selection by positions has to be done with the method `iloc`."
   ]
  },
  {
   "cell_type": "markdown",
   "id": "54e200a9",
   "metadata": {},
   "source": [
    "<div class=\"alert alert-warning\">\n",
    "    (Once again) Note that the result is a Pandas <i>series</i>. It can be avoid by using a <i>list</i>.\n",
    "</div>"
   ]
  },
  {
   "cell_type": "code",
   "execution_count": null,
   "id": "747d97ba",
   "metadata": {},
   "outputs": [],
   "source": [
    "df.iloc[0]"
   ]
  },
  {
   "cell_type": "code",
   "execution_count": null,
   "id": "ef4e064e",
   "metadata": {},
   "outputs": [],
   "source": [
    "df.iloc[[0]]"
   ]
  },
  {
   "cell_type": "markdown",
   "id": "215ed3d2",
   "metadata": {},
   "source": [
    "The row and column positicion can be specified using a comma `[row, column]`."
   ]
  },
  {
   "cell_type": "markdown",
   "id": "05e0a891-b9dc-47fb-8b1b-a5c43aed386c",
   "metadata": {},
   "source": [
    "<div class=\"alert alert-warning\">\n",
    "    In this case, as only one cell with a <i>string</i> is selected it returns this <i>string</i>.\n",
    "</div>"
   ]
  },
  {
   "cell_type": "code",
   "execution_count": null,
   "id": "0401c75a",
   "metadata": {},
   "outputs": [],
   "source": [
    "df.iloc[2, 5]"
   ]
  },
  {
   "cell_type": "code",
   "execution_count": null,
   "id": "2b09f4cb",
   "metadata": {},
   "outputs": [],
   "source": [
    "df.iloc[[2], [5]]"
   ]
  },
  {
   "cell_type": "markdown",
   "id": "f3f1832f",
   "metadata": {},
   "source": [
    "You can introduce a range of positions."
   ]
  },
  {
   "cell_type": "code",
   "execution_count": null,
   "id": "4b3c29d3",
   "metadata": {},
   "outputs": [],
   "source": [
    "df.iloc[[0,1,2,3], [5]]"
   ]
  },
  {
   "cell_type": "markdown",
   "id": "a79c62bd",
   "metadata": {},
   "source": [
    "By using a colon (:) it retrieves all the positions."
   ]
  },
  {
   "cell_type": "code",
   "execution_count": null,
   "id": "3bb67328",
   "metadata": {},
   "outputs": [],
   "source": [
    "df.iloc[[1,2,3], :]"
   ]
  },
  {
   "cell_type": "code",
   "execution_count": null,
   "id": "29539a0a",
   "metadata": {},
   "outputs": [],
   "source": [
    "df.iloc[:, [1,2,3]]"
   ]
  },
  {
   "cell_type": "markdown",
   "id": "0c961135",
   "metadata": {},
   "source": [
    "By using `loc` the columns are specified by their names and the rows by the index labels."
   ]
  },
  {
   "cell_type": "markdown",
   "id": "5f9631ba-3d59-444a-a472-d16f4ce2ce41",
   "metadata": {},
   "source": [
    "<div class=\"alert alert-warning\">\n",
    "    Note that by default the index is a list of <i>integers</i>, but it may changes.\n",
    "</div>"
   ]
  },
  {
   "cell_type": "code",
   "execution_count": null,
   "id": "356691f7",
   "metadata": {},
   "outputs": [],
   "source": [
    "df.loc[[1,2,3], 'paper_title']"
   ]
  },
  {
   "cell_type": "code",
   "execution_count": null,
   "id": "6f93951d",
   "metadata": {},
   "outputs": [],
   "source": [
    "df.loc[0, 'paper_title']"
   ]
  },
  {
   "cell_type": "markdown",
   "id": "a3d2545f",
   "metadata": {},
   "source": [
    "Bot of them (`loc` and `iloc`) support boolean lists."
   ]
  },
  {
   "cell_type": "code",
   "execution_count": null,
   "id": "99233019",
   "metadata": {},
   "outputs": [],
   "source": [
    "df.loc[[True, False, False, True]+[False]*30017, [False, False, True, False, False, True, False]]"
   ]
  },
  {
   "cell_type": "markdown",
   "id": "54717404-0da5-406d-8e8e-91280805d6a8",
   "metadata": {},
   "source": [
    "### 2.2.2. Filtering"
   ]
  },
  {
   "cell_type": "markdown",
   "id": "a66e4aac-24d6-4bcb-9302-06c82d17b492",
   "metadata": {},
   "source": [
    "<div class=\"alert alert-info\">\n",
    "    Similar to <b>SQL WHERE</b>.\n",
    "</div>"
   ]
  },
  {
   "cell_type": "markdown",
   "id": "f0a73b27",
   "metadata": {},
   "source": [
    "These selection options can be combined with more advanced options to filter the data, all of them inside the `[]`:\n",
    "+ ==, >, >=, <, <=, != - comparison operators\n",
    "+ `isin` - rows whose values are in a specified *list*\n",
    "+ `contains` - rows whose values include a string"
   ]
  },
  {
   "cell_type": "markdown",
   "id": "94a90cbe",
   "metadata": {},
   "source": [
    "For instance, the dataset can be filtered to papers with more than 5 citations."
   ]
  },
  {
   "cell_type": "code",
   "execution_count": null,
   "id": "4d24fe39",
   "metadata": {},
   "outputs": [],
   "source": [
    "df[df['n_cits'] > 5]"
   ]
  },
  {
   "cell_type": "markdown",
   "id": "5d8f87fe",
   "metadata": {},
   "source": [
    "And it can be also filtered to get only some specific columns. It can be done in different ways."
   ]
  },
  {
   "cell_type": "code",
   "execution_count": null,
   "id": "adae2da5",
   "metadata": {},
   "outputs": [],
   "source": [
    "df[df['n_cits'] > 5][['paper_title', 'n_cits']]"
   ]
  },
  {
   "cell_type": "code",
   "execution_count": null,
   "id": "5d22b41f",
   "metadata": {},
   "outputs": [],
   "source": [
    "df.loc[df['n_cits'] > 5,['paper_title', 'n_cits']]"
   ]
  },
  {
   "cell_type": "markdown",
   "id": "d942fb8e",
   "metadata": {},
   "source": [
    "<div class=\"alert alert-info\">\n",
    "    Note that this is the same as if we modify the table step by step.\n",
    "</div>"
   ]
  },
  {
   "cell_type": "code",
   "execution_count": null,
   "id": "1574f67f",
   "metadata": {},
   "outputs": [],
   "source": [
    "df_f = df[df['n_cits'] > 5]\n",
    "df_f = df_f[['paper_title', 'n_cits']]\n",
    "df_f"
   ]
  },
  {
   "cell_type": "markdown",
   "id": "60d632ad-ad85-44e0-88f9-059c34ac9d4a",
   "metadata": {},
   "source": [
    "The rows can be filtered by comparing rows with exact values."
   ]
  },
  {
   "cell_type": "code",
   "execution_count": null,
   "id": "3f9b58a8",
   "metadata": {},
   "outputs": [],
   "source": [
    "df[df['journal_title'] == 'Scientometrics']"
   ]
  },
  {
   "cell_type": "markdown",
   "id": "4aafc1c7",
   "metadata": {},
   "source": [
    "Or in the opposite direction, excluding rows by an exact value."
   ]
  },
  {
   "cell_type": "code",
   "execution_count": null,
   "id": "e1c99f14",
   "metadata": {},
   "outputs": [],
   "source": [
    "df[df['journal_title'] != 'Scientometrics']"
   ]
  },
  {
   "cell_type": "markdown",
   "id": "abafdc81",
   "metadata": {},
   "source": [
    "If you want to do this comparison using a *list* of values, you have to use the `isin` method."
   ]
  },
  {
   "cell_type": "code",
   "execution_count": null,
   "id": "53677410",
   "metadata": {},
   "outputs": [],
   "source": [
    "df[df['journal_title'].isin(['PLOS ONE', 'Nature', 'Science'])]"
   ]
  },
  {
   "cell_type": "markdown",
   "id": "a823bbdb",
   "metadata": {},
   "source": [
    "To exclude a *list* of values you have to use a `~` before the data selection."
   ]
  },
  {
   "cell_type": "code",
   "execution_count": null,
   "id": "f9a874ed",
   "metadata": {},
   "outputs": [],
   "source": [
    "df[~ df['journal_title'].isin(['PLOS ONE', 'Nature', 'Science'])]"
   ]
  },
  {
   "cell_type": "markdown",
   "id": "4201ac00",
   "metadata": {},
   "source": [
    "<div class=\"alert alert-warning\">\n",
    "    Note that before <i>contains</i> you have to specify <i>str</i>.\n",
    "    Also, <b>this method is case sensitive by default</b>.\n",
    "</div>"
   ]
  },
  {
   "cell_type": "code",
   "execution_count": null,
   "id": "4ff12dd3",
   "metadata": {},
   "outputs": [],
   "source": [
    "df[df['paper_title'].str.contains('altmetric')]"
   ]
  },
  {
   "cell_type": "code",
   "execution_count": null,
   "id": "09a907ec-1b10-422c-9d2b-f3db3d33235e",
   "metadata": {},
   "outputs": [],
   "source": [
    "df[df['paper_title'].str.contains('Altmetric')]"
   ]
  },
  {
   "cell_type": "markdown",
   "id": "eea59545",
   "metadata": {},
   "source": [
    "<div class=\"alert alert-block alert-danger\">\n",
    "    It returns error if rows have NA/NaN values.\n",
    "</div>"
   ]
  },
  {
   "cell_type": "code",
   "execution_count": null,
   "id": "c924d3f4",
   "metadata": {},
   "outputs": [],
   "source": [
    "df[df['abstract'].str.contains('altmetric')]"
   ]
  },
  {
   "cell_type": "markdown",
   "id": "ee524069",
   "metadata": {},
   "source": [
    "These empty rows can be omitted by using the `na` parameter."
   ]
  },
  {
   "cell_type": "code",
   "execution_count": null,
   "id": "ffb2984f",
   "metadata": {},
   "outputs": [],
   "source": [
    "df[df['abstract'].str.contains('altmetric', na=False)]"
   ]
  },
  {
   "cell_type": "markdown",
   "id": "38bae4be",
   "metadata": {},
   "source": [
    "All these methods can be combined and multiple conditions can be indicated at the same time. The logical operators are:\n",
    "+ & - AND\n",
    "+ | - OR"
   ]
  },
  {
   "cell_type": "markdown",
   "id": "891051a2",
   "metadata": {},
   "source": [
    "For instance, select papers that contain the word altmetric in the title or in the abstract."
   ]
  },
  {
   "cell_type": "code",
   "execution_count": null,
   "id": "3350d81e",
   "metadata": {},
   "outputs": [],
   "source": [
    "df[df['paper_title'].str.contains('altmetric', case=False) | df['abstract'].str.contains('twitter', case=False, na=False)]"
   ]
  },
  {
   "cell_type": "markdown",
   "id": "2e415e3c",
   "metadata": {},
   "source": [
    "Or select papers that contain the word altmetric in the title and have more than 10 citations."
   ]
  },
  {
   "cell_type": "markdown",
   "id": "ba9c907c",
   "metadata": {},
   "source": [
    "<div class=\"alert alert-warning\">\n",
    "    Do not forget to include () when you use more than one comparison operator.\n",
    "</div>"
   ]
  },
  {
   "cell_type": "code",
   "execution_count": null,
   "id": "577b17dc",
   "metadata": {},
   "outputs": [],
   "source": [
    "df[df['paper_title'].str.contains('altmetric', case=False) & (df['n_cits'] > 10)]"
   ]
  },
  {
   "cell_type": "markdown",
   "id": "6da04a2f",
   "metadata": {},
   "source": [
    "## 2.3. Grouping methods"
   ]
  },
  {
   "cell_type": "markdown",
   "id": "d0fa7619-b78f-4720-afde-6c7e42e339c1",
   "metadata": {},
   "source": [
    "<div class=\"alert alert-info\">\n",
    "    Similar to <b>SQL GROUP BY</b>.\n",
    "</div>"
   ]
  },
  {
   "cell_type": "markdown",
   "id": "abe73795-106b-44a8-86e6-f24e254983a1",
   "metadata": {},
   "source": [
    "Firstly, it is possible to remove duplicated rows by using the `drop_duplicates` method. For instance, to get unique pairs of journal titles and years."
   ]
  },
  {
   "cell_type": "code",
   "execution_count": null,
   "id": "aecd1677-6e86-4ad5-969a-1716e27a142a",
   "metadata": {},
   "outputs": [],
   "source": [
    "df[['journal_title', 'pub_year']].drop_duplicates()"
   ]
  },
  {
   "cell_type": "markdown",
   "id": "fdf64077-cc6b-4ccc-9d7d-675fa7a50050",
   "metadata": {},
   "source": [
    "As there are some NA values, the can be removed with the `dropna` method or using the `dropna` parameter in the `groupby` method. By default it removes all the NA cells in all the columns, but it is possible to specify one specific column(s) with the `subset` parameter."
   ]
  },
  {
   "cell_type": "code",
   "execution_count": null,
   "id": "540da47c-990a-432e-8875-c66c624b85b1",
   "metadata": {},
   "outputs": [],
   "source": [
    "df[['journal_title', 'pub_year']].drop_duplicates().dropna()"
   ]
  },
  {
   "cell_type": "code",
   "execution_count": null,
   "id": "29103306-0063-4883-9af5-775ac21698bd",
   "metadata": {},
   "outputs": [],
   "source": [
    "df[['journal_title', 'pub_year']].drop_duplicates().dropna(subset=['journal_title'])"
   ]
  },
  {
   "cell_type": "markdown",
   "id": "63d919cb-fcb0-4fdf-afcf-81fcac479849",
   "metadata": {},
   "source": [
    "With the `groupby` method you can group the *DataFrame*, indicating by which columns should be grouped, and then apply some specific methods."
   ]
  },
  {
   "cell_type": "code",
   "execution_count": null,
   "id": "3d67b29c-232f-4e33-a0ce-be1d3ffb2efd",
   "metadata": {},
   "outputs": [],
   "source": [
    "df[['pub_year', 'paper_title']].groupby(['pub_year'])"
   ]
  },
  {
   "cell_type": "markdown",
   "id": "706ed095-71f9-4dc4-bff9-002cd19908e4",
   "metadata": {},
   "source": [
    "It is possible to get the number of rows (non-NA) using the `count` method. For instance, the number of papers by years."
   ]
  },
  {
   "cell_type": "code",
   "execution_count": null,
   "id": "0ea0043c",
   "metadata": {},
   "outputs": [],
   "source": [
    "df[['pub_year', 'paper_title']].groupby(['pub_year']).count()"
   ]
  },
  {
   "cell_type": "markdown",
   "id": "e1387baa-b45f-4c14-9b00-ddd7b4ce5787",
   "metadata": {},
   "source": [
    "After applying a `groupby` and some method, the resulting *DataFrame* columns could be renamed with `rename` and the index restarted with `reset_index`."
   ]
  },
  {
   "cell_type": "code",
   "execution_count": null,
   "id": "9c55c270-a65a-46f0-bfbd-47578128e770",
   "metadata": {},
   "outputs": [],
   "source": [
    "df[['pub_year', 'paper_title']].groupby(['pub_year']).count().rename(columns={'paper_title':'papers'}).reset_index()"
   ]
  },
  {
   "cell_type": "markdown",
   "id": "28cd105a-05b2-4538-bf73-fea6baa64a1a",
   "metadata": {},
   "source": [
    "Other methods can be used after the grouping. For instance, `sum` and `mean`."
   ]
  },
  {
   "cell_type": "code",
   "execution_count": null,
   "id": "8299df47-be49-46a2-be2c-2706d20cabaa",
   "metadata": {},
   "outputs": [],
   "source": [
    "df[['pub_year', 'n_cits']].groupby(['pub_year']).mean().rename(columns={'n_cits':'mean_cits'}).reset_index()"
   ]
  },
  {
   "cell_type": "markdown",
   "id": "15d96ba5-3a3d-4fb6-9529-78436109486f",
   "metadata": {},
   "source": [
    "As the *journal_title* column includes some NA values, the parameter `dropna` is used."
   ]
  },
  {
   "cell_type": "code",
   "execution_count": null,
   "id": "fa3033bc-3d57-4817-a118-7bdc1e7dd4cb",
   "metadata": {},
   "outputs": [],
   "source": [
    "df[['journal_title', 'n_cits']].groupby(['journal_title'], dropna=True).sum().rename(columns={'n_cits':'sum_cits'}).reset_index()"
   ]
  },
  {
   "cell_type": "markdown",
   "id": "d1df82e5-0c44-4115-ac78-e0049e43c39c",
   "metadata": {},
   "source": [
    "The *DataFrame* can be sorted by the values of one column using `sort_values`."
   ]
  },
  {
   "cell_type": "code",
   "execution_count": null,
   "id": "6bffea52-a1f5-4c7e-a99c-a711983b5dea",
   "metadata": {},
   "outputs": [],
   "source": [
    "df[['journal_title', 'n_cits']].groupby(['journal_title'], dropna=True).sum().rename(columns={'n_cits':'sum_cits'}).reset_index().sort_values(by='sum_cits', ascending=False)"
   ]
  },
  {
   "cell_type": "markdown",
   "id": "e9654b4c-bbc6-4084-a317-6760acfce311",
   "metadata": {},
   "source": [
    "Other intersting method is `agg` as it allows to aggregate using one or more operations to summarise the *DataFrame*."
   ]
  },
  {
   "cell_type": "code",
   "execution_count": null,
   "id": "9980591e-ece0-4397-b24f-2a6fb5ff7e01",
   "metadata": {},
   "outputs": [],
   "source": [
    "df[['n_cits', 'n_refs']].agg(['sum', 'min', 'max', 'mean', 'std'])"
   ]
  },
  {
   "cell_type": "markdown",
   "id": "39860993-f51c-4f50-b831-2623a6af8ad8",
   "metadata": {},
   "source": [
    "It is also possible to apply specific opertations to each columns."
   ]
  },
  {
   "cell_type": "code",
   "execution_count": null,
   "id": "0f335503-ffbb-4677-aa88-4cadc2572e2e",
   "metadata": {},
   "outputs": [],
   "source": [
    "df[['n_cits', 'n_refs']].agg({'n_cits' : ['sum', 'min'], 'n_refs' : ['min', 'max']})"
   ]
  },
  {
   "cell_type": "markdown",
   "id": "6056a848-a6b0-472d-91ca-0ef138cdb4cd",
   "metadata": {},
   "source": [
    "You can combine `agg` with `groupby` to apply multiple operations at the same time."
   ]
  },
  {
   "cell_type": "code",
   "execution_count": null,
   "id": "f193679d-26cd-469a-8ff7-f957d868a64f",
   "metadata": {},
   "outputs": [],
   "source": [
    "df[['journal_title', 'n_cits']].groupby(['journal_title'], dropna=True).agg(['count', 'sum', 'min', 'max', 'mean', 'std'])"
   ]
  },
  {
   "cell_type": "markdown",
   "id": "96a6dfeb-7fce-4cb1-b2f9-f7a3ac8aba6f",
   "metadata": {},
   "source": [
    "Futhermore, they can be applied in a selective way."
   ]
  },
  {
   "cell_type": "code",
   "execution_count": null,
   "id": "0148b32f-cf5b-4c05-92be-6d09a9d0b701",
   "metadata": {},
   "outputs": [],
   "source": [
    "df[['journal_title', 'n_cits', 'n_refs']].groupby(['journal_title'], dropna=True).agg({'n_cits' : ['sum', 'min', 'count'], 'n_refs' : ['mean', 'max']})"
   ]
  },
  {
   "cell_type": "markdown",
   "id": "3fa79ace-2044-4af3-b8e3-0cddd13ebaee",
   "metadata": {},
   "source": [
    "<div class=\"alert alert-warning\">\n",
    "    Notice that after applying this method it returns a DataFrame with two column name levels.\n",
    "</div>"
   ]
  },
  {
   "cell_type": "code",
   "execution_count": null,
   "id": "97051506-9964-446b-b0ee-ed086de918f3",
   "metadata": {},
   "outputs": [],
   "source": [
    "df_agg = df[['journal_title', 'n_cits', 'n_refs']].groupby(['journal_title'], dropna=True).agg({'n_cits' : ['sum', 'min', 'count'], 'n_refs' : ['mean', 'max']})\n",
    "df_agg"
   ]
  },
  {
   "cell_type": "markdown",
   "id": "6556a9eb-7faf-49b9-a52e-06b0d1209c34",
   "metadata": {},
   "source": [
    "It is possible to unstack them using the `map` method."
   ]
  },
  {
   "cell_type": "code",
   "execution_count": null,
   "id": "99d1af73-2d6f-41d7-a069-96dcde0b9437",
   "metadata": {},
   "outputs": [],
   "source": [
    "df_agg.columns = df_agg.columns.map('_'.join)\n",
    "df_agg"
   ]
  },
  {
   "cell_type": "markdown",
   "id": "882c2f62-b79d-4806-9187-a8558630c920",
   "metadata": {},
   "source": [
    "## 2.4. Joining"
   ]
  },
  {
   "cell_type": "markdown",
   "id": "aad3e3a5-74b7-4a6a-8ca4-cd088745255f",
   "metadata": {},
   "source": [
    "<div class=\"alert alert-info\">\n",
    "    Similar to <b>SQL JOIN</b>.\n",
    "</div>"
   ]
  },
  {
   "cell_type": "markdown",
   "id": "9a6df332-f5bc-4ffd-9180-628d980f2564",
   "metadata": {},
   "source": [
    "For this section, two subsets are created."
   ]
  },
  {
   "cell_type": "code",
   "execution_count": null,
   "id": "d4ce423a-7da6-46b1-88f8-75469a90c7d3",
   "metadata": {},
   "outputs": [],
   "source": [
    "df1 = df[['paper_title', 'pub_year']]\n",
    "df2 = df[['paper_title', 'journal_title']]"
   ]
  },
  {
   "cell_type": "markdown",
   "id": "f4d1704c-7153-4811-a541-cd6663e706e8",
   "metadata": {},
   "source": [
    "Two *DataFrame* can be joined using the `merge` method. The join mehtod can be specified using the `how` parameter:\n",
    "+ left - left outer join\n",
    "+ right - right outer join\n",
    "+ outer - full outer join\n",
    "+ inner - inner join"
   ]
  },
  {
   "cell_type": "markdown",
   "id": "93a3dc12-bcfc-496c-a504-a59eaa235568",
   "metadata": {},
   "source": [
    "The key column used for joining is specified with the `on` parameter. If this column has a different name in the two *DataFrames* you have to use `left_on` and `right_on` insted."
   ]
  },
  {
   "cell_type": "code",
   "execution_count": null,
   "id": "4e266c88-68ef-446e-994a-8b6472f9bd7e",
   "metadata": {},
   "outputs": [],
   "source": [
    "pd.merge(df1, df2, how='inner', on='paper_title')"
   ]
  },
  {
   "cell_type": "markdown",
   "id": "ffd93ca1-8089-44f1-9c9d-6d18b741154a",
   "metadata": {},
   "source": [
    "As the second *DataFrame* includes some NA-values, they are removed before the joining."
   ]
  },
  {
   "cell_type": "code",
   "execution_count": null,
   "id": "215904d5-2c1e-4f14-b8a2-58ba35ee734d",
   "metadata": {},
   "outputs": [],
   "source": [
    "pd.merge(df1, df2.dropna(), how='inner', on='paper_title')"
   ]
  },
  {
   "cell_type": "markdown",
   "id": "d6caa6c1-7eb6-40cb-bc9b-d024fb2d6eba",
   "metadata": {},
   "source": [
    "## 2.5. Plots"
   ]
  },
  {
   "cell_type": "markdown",
   "id": "68152112-8352-42a3-ace9-29c5e43b925b",
   "metadata": {},
   "source": [
    "Two *DataFrames* are created."
   ]
  },
  {
   "cell_type": "code",
   "execution_count": null,
   "id": "b9929b88-1760-406a-8045-442f32ff34ec",
   "metadata": {},
   "outputs": [],
   "source": [
    "df3 = df[['paper_title', 'n_cits', 'n_refs']].groupby(['paper_title'], dropna=True).sum().rename(columns={'n_cits':'sum_cits', 'n_refs':'sum_refs'}).reset_index().sort_values(by='sum_cits', ascending=False)\n",
    "df3"
   ]
  },
  {
   "cell_type": "code",
   "execution_count": null,
   "id": "37d78f68-87db-45f0-a69a-2d06ffef9a92",
   "metadata": {},
   "outputs": [],
   "source": [
    "df4 = df[['pub_year', 'n_cits', 'paper_title']].groupby(['pub_year']).agg({'n_cits' : ['sum'], 'paper_title' : ['count']}).rename(columns={'paper_title':'papers'}).reset_index()\n",
    "df4.columns = df4.columns.map('_'.join)\n",
    "df4"
   ]
  },
  {
   "cell_type": "markdown",
   "id": "595579fc-035b-4523-b5ee-33a85d22d1ec",
   "metadata": {},
   "source": [
    "As seen in the series a plot can be generated by using the `plot` method (default line plot). A specific kind of plot can be specified by using the `kind` parameter, it could be:\n",
    "+ `line` - line plot\n",
    "+ `bar` - vertical bar plot\n",
    "+ `barh` - horizontal bar plot\n",
    "+ `hist` - histogram\n",
    "+ `box` - boxplot\n",
    "+ `kde` - Kernel Density Estimation plot\n",
    "+ `density` - same as ‘kde’\n",
    "+ `area` - area plot\n",
    "+ `pie` - pie plot\n",
    "+ `scatter` - scatter plot\n",
    "+ `hexbin` - hexbin plot"
   ]
  },
  {
   "cell_type": "markdown",
   "id": "03d715cb-07a8-488d-afbc-7318ba814cf8",
   "metadata": {},
   "source": [
    "The scatter and hexbin plots are specific for *DataFrames* as you have to indicate a *x* and *y* series."
   ]
  },
  {
   "cell_type": "code",
   "execution_count": null,
   "id": "f528a208-6ccc-44ae-a57b-ff2e2ee5afa2",
   "metadata": {},
   "outputs": [],
   "source": [
    "df3.plot(kind='scatter', x='sum_cits', y='sum_refs')"
   ]
  },
  {
   "cell_type": "code",
   "execution_count": null,
   "id": "fa45fe34-b725-4b22-9cbd-80d6cb5c6bb8",
   "metadata": {},
   "outputs": [],
   "source": [
    "df4.plot(kind='barh', x='pub_year_')"
   ]
  },
  {
   "cell_type": "markdown",
   "id": "d53deb1a-36d0-42de-b365-862366b9608d",
   "metadata": {},
   "source": [
    "It is also possible to invoke the specific kind of plot. Not all use the same name, for example as with boxplots."
   ]
  },
  {
   "cell_type": "code",
   "execution_count": null,
   "id": "8e6d1fe0-bd8a-41ee-b2c1-fc868b6628e0",
   "metadata": {},
   "outputs": [],
   "source": [
    "df3.boxplot()"
   ]
  },
  {
   "cell_type": "markdown",
   "id": "c9a84549-be81-43cc-82b0-34d5e95d9f4b",
   "metadata": {},
   "source": [
    "With the use of `showfliers` the outliers are removed, while `grid` is used to remove the grids."
   ]
  },
  {
   "cell_type": "code",
   "execution_count": null,
   "id": "e456e23b-cd61-45f4-8a22-b65fb1ac7340",
   "metadata": {},
   "outputs": [],
   "source": [
    "df3.boxplot(showfliers=False, grid=False)"
   ]
  },
  {
   "cell_type": "markdown",
   "id": "fd522359-ad40-49a4-a76e-18099d8d9326",
   "metadata": {},
   "source": [
    "## 2.6. Export data"
   ]
  },
  {
   "cell_type": "markdown",
   "id": "3ffe9e80-2031-4941-8b16-6987c5c1b703",
   "metadata": {},
   "source": [
    "*DataFrames* can be exported as csv/tsv files using the `to_csv` method. The `sep` parameter is used to indicate the delimiter character and with `index` we can specify that the index is not exported."
   ]
  },
  {
   "cell_type": "code",
   "execution_count": null,
   "id": "6a740ef7-5197-4d9d-8858-f47d645a7e00",
   "metadata": {},
   "outputs": [],
   "source": [
    "df3.to_csv('../data/agg_dataframe.tsv', sep='\\t', index=False)"
   ]
  }
 ],
 "metadata": {
  "kernelspec": {
   "display_name": "Python 3",
   "language": "python",
   "name": "python3"
  },
  "language_info": {
   "codemirror_mode": {
    "name": "ipython",
    "version": 3
   },
   "file_extension": ".py",
   "mimetype": "text/x-python",
   "name": "python",
   "nbconvert_exporter": "python",
   "pygments_lexer": "ipython3",
   "version": "3.8.8"
  }
 },
 "nbformat": 4,
 "nbformat_minor": 5
}
