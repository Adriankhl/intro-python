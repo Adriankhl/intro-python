{
 "cells": [
  {
   "cell_type": "markdown",
   "id": "bf17cbba",
   "metadata": {},
   "source": [
    "## String basics\n",
    "Strings in Python come with a number of useful features and methods."
   ]
  },
  {
   "cell_type": "code",
   "execution_count": 260,
   "id": "f4cbbcb8",
   "metadata": {},
   "outputs": [],
   "source": [
    "quickfox = \"the quick brown fox jumped over the lazy dog. \""
   ]
  },
  {
   "cell_type": "code",
   "execution_count": 261,
   "id": "dec16ea3",
   "metadata": {},
   "outputs": [
    {
     "data": {
      "text/plain": [
       "'The quick brown fox jumped over the lazy dog. '"
      ]
     },
     "execution_count": 261,
     "metadata": {},
     "output_type": "execute_result"
    }
   ],
   "source": [
    "quickfox.capitalize()"
   ]
  },
  {
   "cell_type": "code",
   "execution_count": 262,
   "id": "f3010ba9",
   "metadata": {},
   "outputs": [
    {
     "data": {
      "text/plain": [
       "'THE QUICK BROWN FOX JUMPED OVER THE LAZY DOG. '"
      ]
     },
     "execution_count": 262,
     "metadata": {},
     "output_type": "execute_result"
    }
   ],
   "source": [
    "quickfox.upper()"
   ]
  },
  {
   "cell_type": "code",
   "execution_count": 263,
   "id": "6e711369",
   "metadata": {},
   "outputs": [
    {
     "data": {
      "text/plain": [
       "True"
      ]
     },
     "execution_count": 263,
     "metadata": {},
     "output_type": "execute_result"
    }
   ],
   "source": [
    "'fox' in quickfox"
   ]
  },
  {
   "cell_type": "code",
   "execution_count": 264,
   "id": "6a5b7d73",
   "metadata": {},
   "outputs": [
    {
     "data": {
      "text/plain": [
       "False"
      ]
     },
     "execution_count": 264,
     "metadata": {},
     "output_type": "execute_result"
    }
   ],
   "source": [
    "quickfox.startswith('fox')"
   ]
  },
  {
   "cell_type": "code",
   "execution_count": 265,
   "id": "e2c49f84",
   "metadata": {},
   "outputs": [
    {
     "data": {
      "text/plain": [
       "16"
      ]
     },
     "execution_count": 265,
     "metadata": {},
     "output_type": "execute_result"
    }
   ],
   "source": [
    "quickfox.find(\"fox\")"
   ]
  },
  {
   "cell_type": "code",
   "execution_count": 266,
   "id": "828cd47a",
   "metadata": {},
   "outputs": [
    {
     "data": {
      "text/plain": [
       "'fox jumped over the lazy dog. '"
      ]
     },
     "execution_count": 266,
     "metadata": {},
     "output_type": "execute_result"
    }
   ],
   "source": [
    "quickfox[16:]"
   ]
  },
  {
   "cell_type": "code",
   "execution_count": 267,
   "id": "374c15dc",
   "metadata": {},
   "outputs": [
    {
     "data": {
      "text/plain": [
       "1"
      ]
     },
     "execution_count": 267,
     "metadata": {},
     "output_type": "execute_result"
    }
   ],
   "source": [
    "quickfox.count('fox')"
   ]
  },
  {
   "cell_type": "code",
   "execution_count": 268,
   "id": "3f0ef05b",
   "metadata": {},
   "outputs": [
    {
     "data": {
      "text/plain": [
       "'the quick brown hare jumped over the adorable dog. '"
      ]
     },
     "execution_count": 268,
     "metadata": {},
     "output_type": "execute_result"
    }
   ],
   "source": [
    "quickfox.replace('fox', 'hare').replace('lazy', 'adorable')"
   ]
  },
  {
   "cell_type": "markdown",
   "id": "5fb21335",
   "metadata": {},
   "source": [
    "Splitting strings is an important standard operation that allows you to produce lists of substrings, based on a defined separator. In this case, we split the sentence by whitespace."
   ]
  },
  {
   "cell_type": "code",
   "execution_count": 269,
   "id": "c45308eb",
   "metadata": {},
   "outputs": [
    {
     "data": {
      "text/plain": [
       "['the', 'quick', 'brown', 'fox', 'jumped', 'over', 'the', 'lazy', 'dog.', '']"
      ]
     },
     "execution_count": 269,
     "metadata": {},
     "output_type": "execute_result"
    }
   ],
   "source": [
    "quickfox.split(' ')"
   ]
  },
  {
   "cell_type": "markdown",
   "id": "04e7f75d",
   "metadata": {},
   "source": [
    "Note the empty string at the end of the list. This exists because the original string ended in a whitespace. We can use the .strip() method to remove leading and trailing whitespace from a string."
   ]
  },
  {
   "cell_type": "code",
   "execution_count": 270,
   "id": "d74edc04",
   "metadata": {},
   "outputs": [
    {
     "data": {
      "text/plain": [
       "'the quick brown fox jumped over the lazy dog.'"
      ]
     },
     "execution_count": 270,
     "metadata": {},
     "output_type": "execute_result"
    }
   ],
   "source": [
    "quickfox.strip()"
   ]
  },
  {
   "cell_type": "markdown",
   "id": "5eac7b22",
   "metadata": {},
   "source": [
    ".join() is a powerful method that allows you to join a list of strings together, using the specified separator. In this case, we will join a list of numbers together, "
   ]
  },
  {
   "cell_type": "code",
   "execution_count": 271,
   "id": "24a6fb39",
   "metadata": {},
   "outputs": [],
   "source": [
    "example_list = ['one', 'two', 'three', 'four']"
   ]
  },
  {
   "cell_type": "code",
   "execution_count": 272,
   "id": "26bd0cda",
   "metadata": {},
   "outputs": [
    {
     "data": {
      "text/plain": [
       "'one and two and three and four'"
      ]
     },
     "execution_count": 272,
     "metadata": {},
     "output_type": "execute_result"
    }
   ],
   "source": [
    "' and '.join(example_list)"
   ]
  },
  {
   "cell_type": "markdown",
   "id": "7fa5cfd4",
   "metadata": {},
   "source": [
    "## Pandas stringtypes"
   ]
  },
  {
   "cell_type": "code",
   "execution_count": 273,
   "id": "5d6a8711",
   "metadata": {},
   "outputs": [],
   "source": [
    "import pandas as pd"
   ]
  },
  {
   "cell_type": "code",
   "execution_count": 274,
   "id": "e71d529e",
   "metadata": {},
   "outputs": [],
   "source": [
    "df = pd.read_csv('../data/publications.txt', sep='\\t', encoding='utf-8', dtype={'authors': 'string', 'journal_title': 'string', 'paper_title': 'string', 'abstract': 'string'})"
   ]
  },
  {
   "cell_type": "code",
   "execution_count": 299,
   "id": "c3398379",
   "metadata": {},
   "outputs": [
    {
     "data": {
      "text/html": [
       "<div>\n",
       "<style scoped>\n",
       "    .dataframe tbody tr th:only-of-type {\n",
       "        vertical-align: middle;\n",
       "    }\n",
       "\n",
       "    .dataframe tbody tr th {\n",
       "        vertical-align: top;\n",
       "    }\n",
       "\n",
       "    .dataframe thead th {\n",
       "        text-align: right;\n",
       "    }\n",
       "</style>\n",
       "<table border=\"1\" class=\"dataframe\">\n",
       "  <thead>\n",
       "    <tr style=\"text-align: right;\">\n",
       "      <th></th>\n",
       "      <th>authors</th>\n",
       "      <th>journal_title</th>\n",
       "      <th>pub_year</th>\n",
       "      <th>n_cits</th>\n",
       "      <th>n_refs</th>\n",
       "      <th>paper_title</th>\n",
       "      <th>abstract</th>\n",
       "    </tr>\n",
       "  </thead>\n",
       "  <tbody>\n",
       "    <tr>\n",
       "      <th>0</th>\n",
       "      <td>Edward J. Hackett</td>\n",
       "      <td>&lt;NA&gt;</td>\n",
       "      <td>2000</td>\n",
       "      <td>10</td>\n",
       "      <td>0</td>\n",
       "      <td>12 interdisciplinary research initiatives at the u s national science foundation</td>\n",
       "      <td>&lt;NA&gt;</td>\n",
       "    </tr>\n",
       "    <tr>\n",
       "      <th>1</th>\n",
       "      <td>Wilhelm Krull</td>\n",
       "      <td>&lt;NA&gt;</td>\n",
       "      <td>2000</td>\n",
       "      <td>3</td>\n",
       "      <td>0</td>\n",
       "      <td>13 beyond the ivory tower some observations on external funding of interdisciplinary research in...</td>\n",
       "      <td>&lt;NA&gt;</td>\n",
       "    </tr>\n",
       "    <tr>\n",
       "      <th>2</th>\n",
       "      <td>Anthony Rj. Van Raan</td>\n",
       "      <td>&lt;NA&gt;</td>\n",
       "      <td>2000</td>\n",
       "      <td>21</td>\n",
       "      <td>0</td>\n",
       "      <td>4 the interdisciplinary nature of science theoretical framework and bibliometric empirical approach</td>\n",
       "      <td>&lt;NA&gt;</td>\n",
       "    </tr>\n",
       "    <tr>\n",
       "      <th>3</th>\n",
       "      <td>Anne Brüggemann-Klein; Rolf Klein; Britta Landgraf</td>\n",
       "      <td>&lt;NA&gt;</td>\n",
       "      <td>2000</td>\n",
       "      <td>9</td>\n",
       "      <td>9</td>\n",
       "      <td>bibrelex exploring bibliographic databases by visualization of annotated content based relations</td>\n",
       "      <td>Traditional searching and browsing functions for bibliographic databases no longer enable resear...</td>\n",
       "    </tr>\n",
       "    <tr>\n",
       "      <th>4</th>\n",
       "      <td>Howard D. White; Jan W. Buzydlowski; Xia Lin</td>\n",
       "      <td>&lt;NA&gt;</td>\n",
       "      <td>2000</td>\n",
       "      <td>24</td>\n",
       "      <td>18</td>\n",
       "      <td>co cited author maps as interfaces to digital libraries designing pathfinder networks in the hum...</td>\n",
       "      <td>Using data from the Arts and Humanities Citation Index for 1988-1997, we are attempting to gener...</td>\n",
       "    </tr>\n",
       "    <tr>\n",
       "      <th>...</th>\n",
       "      <td>...</td>\n",
       "      <td>...</td>\n",
       "      <td>...</td>\n",
       "      <td>...</td>\n",
       "      <td>...</td>\n",
       "      <td>...</td>\n",
       "      <td>...</td>\n",
       "    </tr>\n",
       "    <tr>\n",
       "      <th>30016</th>\n",
       "      <td>Alexander F. Post; Adam Y. Li; Jennifer B. Dai; Stanislaw Sobotka; Syed Haider; Tanvir F. Choudh...</td>\n",
       "      <td>World Neurosurgery</td>\n",
       "      <td>2019</td>\n",
       "      <td>0</td>\n",
       "      <td>17</td>\n",
       "      <td>academic productivity of spine surgeons at united states neurological surgery and orthopedic sur...</td>\n",
       "      <td>Objective  Spinal surgery is taught and practiced within 2 different surgical disciplines, neuro...</td>\n",
       "    </tr>\n",
       "    <tr>\n",
       "      <th>30017</th>\n",
       "      <td>Ali Akhaddar</td>\n",
       "      <td>World Neurosurgery</td>\n",
       "      <td>2019</td>\n",
       "      <td>1</td>\n",
       "      <td>18</td>\n",
       "      <td>contribution of moroccan neurosurgeons to the world neurosurgical data in pubmed a bibliometric ...</td>\n",
       "      <td>Background  Medical publications reflect the development of training, research, and health servi...</td>\n",
       "    </tr>\n",
       "    <tr>\n",
       "      <th>30018</th>\n",
       "      <td>Walter C. Jean; Daniel R. Felbaum</td>\n",
       "      <td>World Neurosurgery</td>\n",
       "      <td>2019</td>\n",
       "      <td>0</td>\n",
       "      <td>18</td>\n",
       "      <td>impact of training and practice environment on academic productivity of early career academic ne...</td>\n",
       "      <td>Background  Factors affecting academic productivity of neurosurgeons are increasingly being stud...</td>\n",
       "    </tr>\n",
       "    <tr>\n",
       "      <th>30019</th>\n",
       "      <td>Chesney S. Oravec; Casey D. Frey; Benjamin W. Berwick; Stacey Quintero Wolfe; Carol A. Aschenbre...</td>\n",
       "      <td>World Neurosurgery</td>\n",
       "      <td>2019</td>\n",
       "      <td>0</td>\n",
       "      <td>20</td>\n",
       "      <td>predictors of citations in neurosurgical research</td>\n",
       "      <td>Objective  The number of citations an article receives is an important measure of impact for pub...</td>\n",
       "    </tr>\n",
       "    <tr>\n",
       "      <th>30020</th>\n",
       "      <td>Wei Wang; Jiaying Liu; Bo Xu; Feng Xia; Xiangjie Kong; Zixin Cui; Shuo Yu</td>\n",
       "      <td>World Wide Web</td>\n",
       "      <td>2019</td>\n",
       "      <td>0</td>\n",
       "      <td>55</td>\n",
       "      <td>csteller forecasting scientific collaboration sustainability based on extreme gradient boosting</td>\n",
       "      <td>The mechanism why two strange scholars become collaborators has been extensively studied from th...</td>\n",
       "    </tr>\n",
       "  </tbody>\n",
       "</table>\n",
       "<p>30021 rows × 7 columns</p>\n",
       "</div>"
      ],
      "text/plain": [
       "                                                                                                   authors  \\\n",
       "0                                                                                        Edward J. Hackett   \n",
       "1                                                                                            Wilhelm Krull   \n",
       "2                                                                                     Anthony Rj. Van Raan   \n",
       "3                                                       Anne Brüggemann-Klein; Rolf Klein; Britta Landgraf   \n",
       "4                                                             Howard D. White; Jan W. Buzydlowski; Xia Lin   \n",
       "...                                                                                                    ...   \n",
       "30016  Alexander F. Post; Adam Y. Li; Jennifer B. Dai; Stanislaw Sobotka; Syed Haider; Tanvir F. Choudh...   \n",
       "30017                                                                                         Ali Akhaddar   \n",
       "30018                                                                    Walter C. Jean; Daniel R. Felbaum   \n",
       "30019  Chesney S. Oravec; Casey D. Frey; Benjamin W. Berwick; Stacey Quintero Wolfe; Carol A. Aschenbre...   \n",
       "30020                            Wei Wang; Jiaying Liu; Bo Xu; Feng Xia; Xiangjie Kong; Zixin Cui; Shuo Yu   \n",
       "\n",
       "            journal_title  pub_year  n_cits  n_refs  \\\n",
       "0                    <NA>      2000      10       0   \n",
       "1                    <NA>      2000       3       0   \n",
       "2                    <NA>      2000      21       0   \n",
       "3                    <NA>      2000       9       9   \n",
       "4                    <NA>      2000      24      18   \n",
       "...                   ...       ...     ...     ...   \n",
       "30016  World Neurosurgery      2019       0      17   \n",
       "30017  World Neurosurgery      2019       1      18   \n",
       "30018  World Neurosurgery      2019       0      18   \n",
       "30019  World Neurosurgery      2019       0      20   \n",
       "30020      World Wide Web      2019       0      55   \n",
       "\n",
       "                                                                                               paper_title  \\\n",
       "0                         12 interdisciplinary research initiatives at the u s national science foundation   \n",
       "1      13 beyond the ivory tower some observations on external funding of interdisciplinary research in...   \n",
       "2      4 the interdisciplinary nature of science theoretical framework and bibliometric empirical approach   \n",
       "3         bibrelex exploring bibliographic databases by visualization of annotated content based relations   \n",
       "4      co cited author maps as interfaces to digital libraries designing pathfinder networks in the hum...   \n",
       "...                                                                                                    ...   \n",
       "30016  academic productivity of spine surgeons at united states neurological surgery and orthopedic sur...   \n",
       "30017  contribution of moroccan neurosurgeons to the world neurosurgical data in pubmed a bibliometric ...   \n",
       "30018  impact of training and practice environment on academic productivity of early career academic ne...   \n",
       "30019                                                    predictors of citations in neurosurgical research   \n",
       "30020      csteller forecasting scientific collaboration sustainability based on extreme gradient boosting   \n",
       "\n",
       "                                                                                                  abstract  \n",
       "0                                                                                                     <NA>  \n",
       "1                                                                                                     <NA>  \n",
       "2                                                                                                     <NA>  \n",
       "3      Traditional searching and browsing functions for bibliographic databases no longer enable resear...  \n",
       "4      Using data from the Arts and Humanities Citation Index for 1988-1997, we are attempting to gener...  \n",
       "...                                                                                                    ...  \n",
       "30016  Objective  Spinal surgery is taught and practiced within 2 different surgical disciplines, neuro...  \n",
       "30017  Background  Medical publications reflect the development of training, research, and health servi...  \n",
       "30018  Background  Factors affecting academic productivity of neurosurgeons are increasingly being stud...  \n",
       "30019  Objective  The number of citations an article receives is an important measure of impact for pub...  \n",
       "30020  The mechanism why two strange scholars become collaborators has been extensively studied from th...  \n",
       "\n",
       "[30021 rows x 7 columns]"
      ]
     },
     "execution_count": 299,
     "metadata": {},
     "output_type": "execute_result"
    }
   ],
   "source": [
    "df"
   ]
  },
  {
   "cell_type": "code",
   "execution_count": 297,
   "id": "c9b80088",
   "metadata": {},
   "outputs": [
    {
     "data": {
      "text/plain": [
       "0                           12 Interdisciplinary Research Initiatives At The U S National Science Foundation\n",
       "1        13 Beyond The Ivory Tower Some Observations On External Funding Of Interdisciplinary Research In...\n",
       "2        4 The Interdisciplinary Nature Of Science Theoretical Framework And Bibliometric Empirical Approach\n",
       "3           Bibrelex Exploring Bibliographic Databases By Visualization Of Annotated Content Based Relations\n",
       "4        Co Cited Author Maps As Interfaces To Digital Libraries Designing Pathfinder Networks In The Hum...\n",
       "                                                        ...                                                 \n",
       "30016    Academic Productivity Of Spine Surgeons At United States Neurological Surgery And Orthopedic Sur...\n",
       "30017    Contribution Of Moroccan Neurosurgeons To The World Neurosurgical Data In Pubmed A Bibliometric ...\n",
       "30018    Impact Of Training And Practice Environment On Academic Productivity Of Early Career Academic Ne...\n",
       "30019                                                      Predictors Of Citations In Neurosurgical Research\n",
       "30020        Csteller Forecasting Scientific Collaboration Sustainability Based On Extreme Gradient Boosting\n",
       "Name: paper_title, Length: 30021, dtype: string"
      ]
     },
     "execution_count": 297,
     "metadata": {},
     "output_type": "execute_result"
    }
   ],
   "source": [
    "df['paper_title'].str.title()"
   ]
  },
  {
   "cell_type": "code",
   "execution_count": 298,
   "id": "f40ae384",
   "metadata": {},
   "outputs": [
    {
     "data": {
      "text/plain": [
       "0        -1\n",
       "1        -1\n",
       "2        -1\n",
       "3        -1\n",
       "4        -1\n",
       "         ..\n",
       "30016    -1\n",
       "30017    -1\n",
       "30018    -1\n",
       "30019    14\n",
       "30020    -1\n",
       "Name: paper_title, Length: 30021, dtype: Int64"
      ]
     },
     "execution_count": 298,
     "metadata": {},
     "output_type": "execute_result"
    }
   ],
   "source": [
    "df['paper_title'].str.find('citation')"
   ]
  },
  {
   "cell_type": "code",
   "execution_count": 277,
   "id": "b0f56082",
   "metadata": {},
   "outputs": [
    {
     "data": {
      "text/plain": [
       "0                                                                                        [Edward J. Hackett]\n",
       "1                                                                                            [Wilhelm Krull]\n",
       "2                                                                                     [Anthony Rj. Van Raan]\n",
       "3                                                       [Anne Brüggemann-Klein, Rolf Klein, Britta Landgraf]\n",
       "4                                                             [Howard D. White, Jan W. Buzydlowski, Xia Lin]\n",
       "                                                        ...                                                 \n",
       "30016    [Alexander F. Post, Adam Y. Li, Jennifer B. Dai, Stanislaw Sobotka, Syed Haider, Tanvir F. Choud...\n",
       "30017                                                                                         [Ali Akhaddar]\n",
       "30018                                                                    [Walter C. Jean, Daniel R. Felbaum]\n",
       "30019    [Chesney S. Oravec, Casey D. Frey, Benjamin W. Berwick, Stacey Quintero Wolfe, Carol A. Aschenbr...\n",
       "30020                            [Wei Wang, Jiaying Liu, Bo Xu, Feng Xia, Xiangjie Kong, Zixin Cui, Shuo Yu]\n",
       "Name: authors, Length: 30021, dtype: object"
      ]
     },
     "execution_count": 277,
     "metadata": {},
     "output_type": "execute_result"
    }
   ],
   "source": [
    "df['authors'].str.split('; ')"
   ]
  },
  {
   "cell_type": "code",
   "execution_count": 293,
   "id": "817c59f1",
   "metadata": {},
   "outputs": [
    {
     "data": {
      "text/plain": [
       "0        False\n",
       "1        False\n",
       "2        False\n",
       "3        False\n",
       "4        False\n",
       "         ...  \n",
       "30016    False\n",
       "30017    False\n",
       "30018    False\n",
       "30019    False\n",
       "30020    False\n",
       "Name: authors, Length: 30021, dtype: boolean"
      ]
     },
     "execution_count": 293,
     "metadata": {},
     "output_type": "execute_result"
    }
   ],
   "source": [
    "df['authors'].str.contains('van Eck')"
   ]
  },
  {
   "cell_type": "code",
   "execution_count": 296,
   "id": "fa40e55e",
   "metadata": {},
   "outputs": [
    {
     "data": {
      "text/html": [
       "<div>\n",
       "<style scoped>\n",
       "    .dataframe tbody tr th:only-of-type {\n",
       "        vertical-align: middle;\n",
       "    }\n",
       "\n",
       "    .dataframe tbody tr th {\n",
       "        vertical-align: top;\n",
       "    }\n",
       "\n",
       "    .dataframe thead th {\n",
       "        text-align: right;\n",
       "    }\n",
       "</style>\n",
       "<table border=\"1\" class=\"dataframe\">\n",
       "  <thead>\n",
       "    <tr style=\"text-align: right;\">\n",
       "      <th></th>\n",
       "      <th>authors</th>\n",
       "      <th>journal_title</th>\n",
       "      <th>pub_year</th>\n",
       "      <th>n_cits</th>\n",
       "      <th>n_refs</th>\n",
       "      <th>paper_title</th>\n",
       "      <th>abstract</th>\n",
       "    </tr>\n",
       "  </thead>\n",
       "  <tbody>\n",
       "    <tr>\n",
       "      <th>3718</th>\n",
       "      <td>N.J. van Eck; Ludo Waltman; J.W.O. van den Berg</td>\n",
       "      <td>&lt;NA&gt;</td>\n",
       "      <td>2005</td>\n",
       "      <td>21</td>\n",
       "      <td>9</td>\n",
       "      <td>a novel algorithm for visualizing concept associations</td>\n",
       "      <td>An associative concept space is a map that visualizes the associations between concepts in a sci...</td>\n",
       "    </tr>\n",
       "    <tr>\n",
       "      <th>4784</th>\n",
       "      <td>N.J. van Eck; Flavius Frasincar; J.W.O. van den Berg</td>\n",
       "      <td>&lt;NA&gt;</td>\n",
       "      <td>2006</td>\n",
       "      <td>10</td>\n",
       "      <td>8</td>\n",
       "      <td>visualizing concept associations using concept density maps</td>\n",
       "      <td>The concept mapping algorithm proposed in an earlier paper is one of the dimensionality reductio...</td>\n",
       "    </tr>\n",
       "    <tr>\n",
       "      <th>4785</th>\n",
       "      <td>N.J. van Eck; Ludo Waltman; J.W.O. van den Berg; Uzay Kaymak</td>\n",
       "      <td>&lt;NA&gt;</td>\n",
       "      <td>2006</td>\n",
       "      <td>6</td>\n",
       "      <td>10</td>\n",
       "      <td>visualizing the wcci 2006 knowledge domain</td>\n",
       "      <td>In this paper, a knowledge domain visualization approach is applied to the computational intelli...</td>\n",
       "    </tr>\n",
       "    <tr>\n",
       "      <th>5036</th>\n",
       "      <td>Nees Jan van Eck; Ludo Waltman</td>\n",
       "      <td>ERIM report series research in management Erasmus Research Institute of Management</td>\n",
       "      <td>2006</td>\n",
       "      <td>102</td>\n",
       "      <td>7</td>\n",
       "      <td>vos a new method for visualizing similarities between objects</td>\n",
       "      <td>We present a new method for visualizing similarities between objects. The method is called VOS, ...</td>\n",
       "    </tr>\n",
       "    <tr>\n",
       "      <th>5082</th>\n",
       "      <td>Nees Jan van Eck; Ludo Waltman; Jan van den Berg; Uzay Kaymak</td>\n",
       "      <td>IEEE Computational Intelligence Magazine</td>\n",
       "      <td>2006</td>\n",
       "      <td>38</td>\n",
       "      <td>4</td>\n",
       "      <td>visualizing the computational intelligence field</td>\n",
       "      <td>n this paper, we visualize the struc- ture and the evolution of the compu- tational intelligence...</td>\n",
       "    </tr>\n",
       "    <tr>\n",
       "      <th>...</th>\n",
       "      <td>...</td>\n",
       "      <td>...</td>\n",
       "      <td>...</td>\n",
       "      <td>...</td>\n",
       "      <td>...</td>\n",
       "      <td>...</td>\n",
       "      <td>...</td>\n",
       "    </tr>\n",
       "    <tr>\n",
       "      <th>26973</th>\n",
       "      <td>Rene Mahieu; Nees Jan van Eck; David van Putten; Jeroen van den Hoven</td>\n",
       "      <td>Ethics and Information Technology</td>\n",
       "      <td>2018</td>\n",
       "      <td>2</td>\n",
       "      <td>18</td>\n",
       "      <td>from dignity to security protocols a scientometric analysis of digital ethics</td>\n",
       "      <td>Our lives are increasingly intertwined with the digital realm, and with new technology, new ethi...</td>\n",
       "    </tr>\n",
       "    <tr>\n",
       "      <th>27233</th>\n",
       "      <td>Nees Jan van Eck; Ludo Waltman</td>\n",
       "      <td>Journal of Data and Information Science</td>\n",
       "      <td>2018</td>\n",
       "      <td>0</td>\n",
       "      <td>8</td>\n",
       "      <td>analyzing the activities of visitors of the leiden ranking website</td>\n",
       "      <td>Purpose: To get a better understanding of the way in which university rankings are used.Design/m...</td>\n",
       "    </tr>\n",
       "    <tr>\n",
       "      <th>27308</th>\n",
       "      <td>Kevin W. Boyack; Nees Jan van Eck; Giovanni Colavizza; Ludo Waltman</td>\n",
       "      <td>Journal of Informetrics</td>\n",
       "      <td>2018</td>\n",
       "      <td>28</td>\n",
       "      <td>25</td>\n",
       "      <td>characterizing in text citations in scientific articles a large scale analysis</td>\n",
       "      <td>We report characteristics of in-text citations in over five million full text articles from two ...</td>\n",
       "    </tr>\n",
       "    <tr>\n",
       "      <th>27453</th>\n",
       "      <td>Magnus Palmblad; Nees Jan van Eck</td>\n",
       "      <td>Journal of the American Society for Mass Spectrometry</td>\n",
       "      <td>2018</td>\n",
       "      <td>0</td>\n",
       "      <td>8</td>\n",
       "      <td>bibliometric analyses reveal patterns of collaboration between asms members</td>\n",
       "      <td>We have explored the collaborative network of the current American Society for Mass Spectrometry...</td>\n",
       "    </tr>\n",
       "    <tr>\n",
       "      <th>27483</th>\n",
       "      <td>Giovanni Colavizza; Kevin W. Boyack; Nees Jan van Eck; Ludo Waltman</td>\n",
       "      <td>Journal of the Association for Information Science and Technology</td>\n",
       "      <td>2018</td>\n",
       "      <td>8</td>\n",
       "      <td>27</td>\n",
       "      <td>the closer the better similarity of publication pairs at different cocitation levels</td>\n",
       "      <td>We investigate the similarities of pairs of articles which are co-cited at the different co- cit...</td>\n",
       "    </tr>\n",
       "  </tbody>\n",
       "</table>\n",
       "<p>62 rows × 7 columns</p>\n",
       "</div>"
      ],
      "text/plain": [
       "                                                                     authors  \\\n",
       "3718                         N.J. van Eck; Ludo Waltman; J.W.O. van den Berg   \n",
       "4784                    N.J. van Eck; Flavius Frasincar; J.W.O. van den Berg   \n",
       "4785            N.J. van Eck; Ludo Waltman; J.W.O. van den Berg; Uzay Kaymak   \n",
       "5036                                          Nees Jan van Eck; Ludo Waltman   \n",
       "5082           Nees Jan van Eck; Ludo Waltman; Jan van den Berg; Uzay Kaymak   \n",
       "...                                                                      ...   \n",
       "26973  Rene Mahieu; Nees Jan van Eck; David van Putten; Jeroen van den Hoven   \n",
       "27233                                         Nees Jan van Eck; Ludo Waltman   \n",
       "27308    Kevin W. Boyack; Nees Jan van Eck; Giovanni Colavizza; Ludo Waltman   \n",
       "27453                                      Magnus Palmblad; Nees Jan van Eck   \n",
       "27483    Giovanni Colavizza; Kevin W. Boyack; Nees Jan van Eck; Ludo Waltman   \n",
       "\n",
       "                                                                            journal_title  \\\n",
       "3718                                                                                 <NA>   \n",
       "4784                                                                                 <NA>   \n",
       "4785                                                                                 <NA>   \n",
       "5036   ERIM report series research in management Erasmus Research Institute of Management   \n",
       "5082                                             IEEE Computational Intelligence Magazine   \n",
       "...                                                                                   ...   \n",
       "26973                                                   Ethics and Information Technology   \n",
       "27233                                             Journal of Data and Information Science   \n",
       "27308                                                             Journal of Informetrics   \n",
       "27453                               Journal of the American Society for Mass Spectrometry   \n",
       "27483                   Journal of the Association for Information Science and Technology   \n",
       "\n",
       "       pub_year  n_cits  n_refs  \\\n",
       "3718       2005      21       9   \n",
       "4784       2006      10       8   \n",
       "4785       2006       6      10   \n",
       "5036       2006     102       7   \n",
       "5082       2006      38       4   \n",
       "...         ...     ...     ...   \n",
       "26973      2018       2      18   \n",
       "27233      2018       0       8   \n",
       "27308      2018      28      25   \n",
       "27453      2018       0       8   \n",
       "27483      2018       8      27   \n",
       "\n",
       "                                                                                paper_title  \\\n",
       "3718                                 a novel algorithm for visualizing concept associations   \n",
       "4784                            visualizing concept associations using concept density maps   \n",
       "4785                                             visualizing the wcci 2006 knowledge domain   \n",
       "5036                          vos a new method for visualizing similarities between objects   \n",
       "5082                                       visualizing the computational intelligence field   \n",
       "...                                                                                     ...   \n",
       "26973         from dignity to security protocols a scientometric analysis of digital ethics   \n",
       "27233                    analyzing the activities of visitors of the leiden ranking website   \n",
       "27308        characterizing in text citations in scientific articles a large scale analysis   \n",
       "27453           bibliometric analyses reveal patterns of collaboration between asms members   \n",
       "27483  the closer the better similarity of publication pairs at different cocitation levels   \n",
       "\n",
       "                                                                                                  abstract  \n",
       "3718   An associative concept space is a map that visualizes the associations between concepts in a sci...  \n",
       "4784   The concept mapping algorithm proposed in an earlier paper is one of the dimensionality reductio...  \n",
       "4785   In this paper, a knowledge domain visualization approach is applied to the computational intelli...  \n",
       "5036   We present a new method for visualizing similarities between objects. The method is called VOS, ...  \n",
       "5082   n this paper, we visualize the struc- ture and the evolution of the compu- tational intelligence...  \n",
       "...                                                                                                    ...  \n",
       "26973  Our lives are increasingly intertwined with the digital realm, and with new technology, new ethi...  \n",
       "27233  Purpose: To get a better understanding of the way in which university rankings are used.Design/m...  \n",
       "27308  We report characteristics of in-text citations in over five million full text articles from two ...  \n",
       "27453  We have explored the collaborative network of the current American Society for Mass Spectrometry...  \n",
       "27483  We investigate the similarities of pairs of articles which are co-cited at the different co- cit...  \n",
       "\n",
       "[62 rows x 7 columns]"
      ]
     },
     "execution_count": 296,
     "metadata": {},
     "output_type": "execute_result"
    }
   ],
   "source": [
    "df.loc[df['authors'].str.contains('van Eck')]"
   ]
  },
  {
   "cell_type": "markdown",
   "id": "e6e5d3a8",
   "metadata": {},
   "source": [
    "## Formatted strings\n",
    "Allow for insertion of variables and even expressions within the string."
   ]
  },
  {
   "cell_type": "code",
   "execution_count": 305,
   "id": "f09643d2",
   "metadata": {},
   "outputs": [
    {
     "data": {
      "text/plain": [
       "'My name is Wout'"
      ]
     },
     "execution_count": 305,
     "metadata": {},
     "output_type": "execute_result"
    }
   ],
   "source": [
    "name='Wout'\n",
    "f'My name is {name}'"
   ]
  },
  {
   "cell_type": "code",
   "execution_count": 307,
   "id": "bbd32152",
   "metadata": {},
   "outputs": [
    {
     "data": {
      "text/plain": [
       "'Amsterdam is the capital of the Netherlands and it has a population of over 800000'"
      ]
     },
     "execution_count": 307,
     "metadata": {},
     "output_type": "execute_result"
    }
   ],
   "source": [
    "a='Amsterdam'\n",
    "b='the Netherlands'\n",
    "c=800000\n",
    "f'{a} is the capital of {b} and it has a population of over {c}'"
   ]
  },
  {
   "cell_type": "code",
   "execution_count": 324,
   "id": "4336d87d",
   "metadata": {},
   "outputs": [
    {
     "data": {
      "text/plain": [
       "'5 times 10 is 50 but 5 times 10 is 5555555555'"
      ]
     },
     "execution_count": 324,
     "metadata": {},
     "output_type": "execute_result"
    }
   ],
   "source": [
    "a = 5\n",
    "b = '5'\n",
    "c = 10\n",
    "f'{a} times {c} is {a*c} but {b} times {c} is {b*c}'"
   ]
  },
  {
   "cell_type": "markdown",
   "id": "a3338f92",
   "metadata": {},
   "source": [
    "Beware - typically ' and \" do not mix, though either can be used to define strings. If you use strings within the expressions in an f-string, you will have to use a different style, else you get a syntax error, as in the example below."
   ]
  },
  {
   "cell_type": "code",
   "execution_count": 321,
   "id": "9faece95",
   "metadata": {},
   "outputs": [
    {
     "ename": "SyntaxError",
     "evalue": "invalid syntax (Temp/ipykernel_4404/2659263662.py, line 1)",
     "output_type": "error",
     "traceback": [
      "\u001b[1;36m  File \u001b[1;32m\"C:\\Users\\LAMERS~1\\AppData\\Local\\Temp/ipykernel_4404/2659263662.py\"\u001b[1;36m, line \u001b[1;32m1\u001b[0m\n\u001b[1;33m    f'The dataframe contains {df['authors'].str.contains('van Eck').sum()} articles by Nees Jan van Eck.' # this returns an error\u001b[0m\n\u001b[1;37m                                  ^\u001b[0m\n\u001b[1;31mSyntaxError\u001b[0m\u001b[1;31m:\u001b[0m invalid syntax\n"
     ]
    }
   ],
   "source": [
    "f'The dataframe contains {df['authors'].str.contains('van Eck').sum()} articles by Nees Jan van Eck.' # this returns an error"
   ]
  },
  {
   "cell_type": "code",
   "execution_count": 380,
   "id": "7ae06da2",
   "metadata": {},
   "outputs": [
    {
     "data": {
      "text/plain": [
       "'The dataframe contains 62 articles by Nees Jan van Eck.'"
      ]
     },
     "execution_count": 380,
     "metadata": {},
     "output_type": "execute_result"
    }
   ],
   "source": [
    "f\"The dataframe contains {df['authors'].str.contains('van Eck').sum()} articles by Nees Jan van Eck.\" # this works!"
   ]
  },
  {
   "cell_type": "markdown",
   "id": "dab0c2c5",
   "metadata": {},
   "source": [
    "## Regular expression\n",
    "A powerful tool for parsing and editing string data."
   ]
  },
  {
   "cell_type": "code",
   "execution_count": 381,
   "id": "7cd8c0dc",
   "metadata": {},
   "outputs": [],
   "source": [
    "import re"
   ]
  },
  {
   "cell_type": "markdown",
   "id": "763c5a2a",
   "metadata": {},
   "source": [
    "Let's start by retrieving the abstract of Vincent's paper in the data."
   ]
  },
  {
   "cell_type": "code",
   "execution_count": 382,
   "id": "4f37b4b2",
   "metadata": {},
   "outputs": [
    {
     "data": {
      "text/plain": [
       "'When performing a national research assessment, some countries rely on citation metrics whereas others, such as the UK, primarily use peer review. In the influential Metric Tide report, a low agreement between metrics and peer review in the UK Research Excellence Framework (REF) was found. However, earlier studies observed much higher agreement between metrics and peer review in the REF and argued in favour of using metrics. This shows that there is considerable ambiguity in the discussion on agreement between metrics and peer review. We provide clarity in this discussion by considering four important points: (1) the level of aggregation of the analysis; (2) the use of either a size-dependent or a size-independent perspective; (3) the suitability of different measures of agreement; and (4) the uncertainty in peer review. In the context of the REF, we argue that agreement between metrics and peer review should be assessed at the institutional level rather than at the publication level. Both a size-dependent and a size-independent perspective are relevant in the REF. The interpretation of correlations may be problematic and as an alternative we therefore use measures of agreement that are based on the absolute or relative differences between metrics and peer review. To get an idea of the uncertainty in peer review, we rely on a model to bootstrap peer review outcomes. We conclude that particularly in Physics, Clinical Medicine, and Public Health, metrics agree relatively well with peer review and may offer an alternative to peer review.'"
      ]
     },
     "execution_count": 382,
     "metadata": {},
     "output_type": "execute_result"
    }
   ],
   "source": [
    "vincent_abstract = df.loc[df['authors'].str.contains('Traag') & df['abstract'].notna()]['abstract'].tolist()[0]\n",
    "vincent_abstract"
   ]
  },
  {
   "cell_type": "markdown",
   "id": "9e6fb281",
   "metadata": {},
   "source": [
    "Regular expressions allow you to quickly search and manipulate strings. It uses wildcards, patterns, quantifiers, and character groups. For instance, we can find any numeric character:"
   ]
  },
  {
   "cell_type": "code",
   "execution_count": 383,
   "id": "306f3021",
   "metadata": {},
   "outputs": [
    {
     "data": {
      "text/plain": [
       "['1', '2', '3', '4']"
      ]
     },
     "execution_count": 383,
     "metadata": {},
     "output_type": "execute_result"
    }
   ],
   "source": [
    "re.findall('[0-9]', vincent_abstract)"
   ]
  },
  {
   "cell_type": "markdown",
   "id": "cb8962f7",
   "metadata": {},
   "source": [
    "Regex uses a number of special characters, such as parentheses and square brackets, to denote groups of characters. If you want to explicitly look for these, you need to escape them with a backslash."
   ]
  },
  {
   "cell_type": "code",
   "execution_count": 384,
   "id": "81ddd385",
   "metadata": {},
   "outputs": [
    {
     "data": {
      "text/plain": [
       "['(1)', '(2)', '(3)', '(4)']"
      ]
     },
     "execution_count": 384,
     "metadata": {},
     "output_type": "execute_result"
    }
   ],
   "source": [
    "re.findall('\\([0-9]\\)', vincent_abstract)"
   ]
  },
  {
   "cell_type": "markdown",
   "id": "f847486f",
   "metadata": {},
   "source": [
    "Quantifiers can be used to denote numbers of characters to look for. Let's find any substring that consists of at least two capital letters."
   ]
  },
  {
   "cell_type": "code",
   "execution_count": 385,
   "id": "5e1613fc",
   "metadata": {},
   "outputs": [
    {
     "data": {
      "text/plain": [
       "['UK', 'UK', 'REF', 'REF', 'REF', 'REF']"
      ]
     },
     "execution_count": 385,
     "metadata": {},
     "output_type": "execute_result"
    }
   ],
   "source": [
    "re.findall('[A-Z]{2,}', vincent_abstract)"
   ]
  },
  {
   "cell_type": "markdown",
   "id": "47668da4",
   "metadata": {},
   "source": [
    "Finally, let's use wildcards to match any character between the numbers in parentheses, and ending at the first semicolon or period."
   ]
  },
  {
   "cell_type": "code",
   "execution_count": 386,
   "id": "4cc471ff",
   "metadata": {},
   "outputs": [
    {
     "data": {
      "text/plain": [
       "['(1) the level of aggregation of the analysis;',\n",
       " '(2) the use of either a size-dependent or a size-independent perspective;',\n",
       " '(3) the suitability of different measures of agreement;',\n",
       " '(4) the uncertainty in peer review.']"
      ]
     },
     "execution_count": 386,
     "metadata": {},
     "output_type": "execute_result"
    }
   ],
   "source": [
    "re.findall('\\([0-9]\\).*?[;.]', vincent_abstract)"
   ]
  },
  {
   "cell_type": "markdown",
   "id": "7f5bd716",
   "metadata": {},
   "source": [
    "Regex allows for more than just finding or matching patterns. It can also be used to substitute a pattern with a new string."
   ]
  },
  {
   "cell_type": "code",
   "execution_count": 387,
   "id": "7d7d0378",
   "metadata": {},
   "outputs": [
    {
     "data": {
      "text/plain": [
       "'When performing a national research assessment, some countries rely on citation metrics whereas others, such as the UK, primarily use peer review. In the influential Metric Tide report, a low agreement between metrics and peer review in the UK Research Excellence Framework (REF) was found. However, earlier studies observed much higher agreement between metrics and peer review in the REF and argued in favour of using metrics. This shows that there is considerable ambiguity in the discussion on agreement between metrics and peer review. We provide clarity in this discussion by considering four important points: <SENTENCE REMOVED> <SENTENCE REMOVED> <SENTENCE REMOVED> and <SENTENCE REMOVED> In the context of the REF, we argue that agreement between metrics and peer review should be assessed at the institutional level rather than at the publication level. Both a size-dependent and a size-independent perspective are relevant in the REF. The interpretation of correlations may be problematic and as an alternative we therefore use measures of agreement that are based on the absolute or relative differences between metrics and peer review. To get an idea of the uncertainty in peer review, we rely on a model to bootstrap peer review outcomes. We conclude that particularly in Physics, Clinical Medicine, and Public Health, metrics agree relatively well with peer review and may offer an alternative to peer review.'"
      ]
     },
     "execution_count": 387,
     "metadata": {},
     "output_type": "execute_result"
    }
   ],
   "source": [
    "re.sub('\\([0-9]\\).*?[;.]', '<SENTENCE REMOVED>', vincent_abstract)"
   ]
  },
  {
   "cell_type": "markdown",
   "id": "ce8d66d8",
   "metadata": {},
   "source": [
    "Other important built-in features are the detection of the start of a string (^) and the end of a string (%). We can, for instance, extract the first sentence of the abstract by searching for a pattern, starting from the start of the string, up until the first period. re.search returns a match object, which contains both the matched text as well as the location in the original string."
   ]
  },
  {
   "cell_type": "code",
   "execution_count": 403,
   "id": "814485b2",
   "metadata": {},
   "outputs": [
    {
     "data": {
      "text/plain": [
       "<re.Match object; span=(0, 146), match='When performing a national research assessment, s>"
      ]
     },
     "execution_count": 403,
     "metadata": {},
     "output_type": "execute_result"
    }
   ],
   "source": [
    "re.search('^.*?\\.', vincent_abstract)"
   ]
  },
  {
   "cell_type": "markdown",
   "id": "4c167a03",
   "metadata": {},
   "source": [
    "There are many more things that you can do with regular expression, which we will not get into today, as it gets rather complex very fast. "
   ]
  },
  {
   "cell_type": "markdown",
   "id": "d1023a9e",
   "metadata": {},
   "source": [
    "## NLTK\n",
    "So far, most of these string operations have been possible within SQL as well, so you migth be asking, why Python? The Natural Language ToolKit is the first of a large list of libraries that allow you to do much more with text data than before. First, we need to download the nltk corpus and model files. Run the below cell, then download the 'popular' packages, that is enough for now."
   ]
  },
  {
   "cell_type": "code",
   "execution_count": 414,
   "id": "5d22dd7c",
   "metadata": {},
   "outputs": [
    {
     "name": "stdout",
     "output_type": "stream",
     "text": [
      "showing info https://raw.githubusercontent.com/nltk/nltk_data/gh-pages/index.xml\n"
     ]
    },
    {
     "data": {
      "text/plain": [
       "True"
      ]
     },
     "execution_count": 414,
     "metadata": {},
     "output_type": "execute_result"
    }
   ],
   "source": [
    "import nltk\n",
    "nltk.download()"
   ]
  },
  {
   "cell_type": "markdown",
   "id": "7d06333f",
   "metadata": {},
   "source": [
    "When working with longer texts, it is often useful to break them up into individual sentences, or even words. This is called tokenization."
   ]
  },
  {
   "cell_type": "code",
   "execution_count": 467,
   "id": "6bb30854",
   "metadata": {},
   "outputs": [],
   "source": [
    "from nltk.stem import PorterStemmer\n",
    "from nltk.tokenize import word_tokenize, sent_tokenize"
   ]
  },
  {
   "cell_type": "code",
   "execution_count": 480,
   "id": "ecf81820",
   "metadata": {},
   "outputs": [
    {
     "data": {
      "text/plain": [
       "['When performing a national research assessment, some countries rely on citation metrics whereas others, such as the UK, primarily use peer review.',\n",
       " 'In the influential Metric Tide report, a low agreement between metrics and peer review in the UK Research Excellence Framework (REF) was found.',\n",
       " 'However, earlier studies observed much higher agreement between metrics and peer review in the REF and argued in favour of using metrics.',\n",
       " 'This shows that there is considerable ambiguity in the discussion on agreement between metrics and peer review.',\n",
       " 'We provide clarity in this discussion by considering four important points: (1) the level of aggregation of the analysis; (2) the use of either a size-dependent or a size-independent perspective; (3) the suitability of different measures of agreement; and (4) the uncertainty in peer review.',\n",
       " 'In the context of the REF, we argue that agreement between metrics and peer review should be assessed at the institutional level rather than at the publication level.',\n",
       " 'Both a size-dependent and a size-independent perspective are relevant in the REF.',\n",
       " 'The interpretation of correlations may be problematic and as an alternative we therefore use measures of agreement that are based on the absolute or relative differences between metrics and peer review.',\n",
       " 'To get an idea of the uncertainty in peer review, we rely on a model to bootstrap peer review outcomes.',\n",
       " 'We conclude that particularly in Physics, Clinical Medicine, and Public Health, metrics agree relatively well with peer review and may offer an alternative to peer review.']"
      ]
     },
     "execution_count": 480,
     "metadata": {},
     "output_type": "execute_result"
    }
   ],
   "source": [
    "vincent_sentences = sent_tokenize(vincent_abstract)\n",
    "vincent_sentences"
   ]
  },
  {
   "cell_type": "code",
   "execution_count": 496,
   "id": "3177796d",
   "metadata": {},
   "outputs": [
    {
     "data": {
      "text/plain": [
       "['When',\n",
       " 'performing',\n",
       " 'a',\n",
       " 'national',\n",
       " 'research',\n",
       " 'assessment',\n",
       " ',',\n",
       " 'some',\n",
       " 'countries',\n",
       " 'rely',\n",
       " 'on',\n",
       " 'citation',\n",
       " 'metrics',\n",
       " 'whereas',\n",
       " 'others',\n",
       " ',',\n",
       " 'such',\n",
       " 'as',\n",
       " 'the',\n",
       " 'UK',\n",
       " ',',\n",
       " 'primarily',\n",
       " 'use',\n",
       " 'peer',\n",
       " 'review',\n",
       " '.',\n",
       " 'In',\n",
       " 'the',\n",
       " 'influential',\n",
       " 'Metric',\n",
       " 'Tide',\n",
       " 'report',\n",
       " ',',\n",
       " 'a',\n",
       " 'low',\n",
       " 'agreement',\n",
       " 'between',\n",
       " 'metrics',\n",
       " 'and',\n",
       " 'peer',\n",
       " 'review',\n",
       " 'in',\n",
       " 'the',\n",
       " 'UK',\n",
       " 'Research',\n",
       " 'Excellence',\n",
       " 'Framework',\n",
       " '(',\n",
       " 'REF',\n",
       " ')',\n",
       " 'was',\n",
       " 'found',\n",
       " '.',\n",
       " 'However',\n",
       " ',',\n",
       " 'earlier',\n",
       " 'studies',\n",
       " 'observed',\n",
       " 'much',\n",
       " 'higher',\n",
       " 'agreement',\n",
       " 'between',\n",
       " 'metrics',\n",
       " 'and',\n",
       " 'peer',\n",
       " 'review',\n",
       " 'in',\n",
       " 'the',\n",
       " 'REF',\n",
       " 'and',\n",
       " 'argued',\n",
       " 'in',\n",
       " 'favour',\n",
       " 'of',\n",
       " 'using',\n",
       " 'metrics',\n",
       " '.',\n",
       " 'This',\n",
       " 'shows',\n",
       " 'that',\n",
       " 'there',\n",
       " 'is',\n",
       " 'considerable',\n",
       " 'ambiguity',\n",
       " 'in',\n",
       " 'the',\n",
       " 'discussion',\n",
       " 'on',\n",
       " 'agreement',\n",
       " 'between',\n",
       " 'metrics',\n",
       " 'and',\n",
       " 'peer',\n",
       " 'review',\n",
       " '.',\n",
       " 'We',\n",
       " 'provide',\n",
       " 'clarity',\n",
       " 'in',\n",
       " 'this',\n",
       " 'discussion',\n",
       " 'by',\n",
       " 'considering',\n",
       " 'four',\n",
       " 'important',\n",
       " 'points',\n",
       " ':',\n",
       " '(',\n",
       " '1',\n",
       " ')',\n",
       " 'the',\n",
       " 'level',\n",
       " 'of',\n",
       " 'aggregation',\n",
       " 'of',\n",
       " 'the',\n",
       " 'analysis',\n",
       " ';',\n",
       " '(',\n",
       " '2',\n",
       " ')',\n",
       " 'the',\n",
       " 'use',\n",
       " 'of',\n",
       " 'either',\n",
       " 'a',\n",
       " 'size-dependent',\n",
       " 'or',\n",
       " 'a',\n",
       " 'size-independent',\n",
       " 'perspective',\n",
       " ';',\n",
       " '(',\n",
       " '3',\n",
       " ')',\n",
       " 'the',\n",
       " 'suitability',\n",
       " 'of',\n",
       " 'different',\n",
       " 'measures',\n",
       " 'of',\n",
       " 'agreement',\n",
       " ';',\n",
       " 'and',\n",
       " '(',\n",
       " '4',\n",
       " ')',\n",
       " 'the',\n",
       " 'uncertainty',\n",
       " 'in',\n",
       " 'peer',\n",
       " 'review',\n",
       " '.',\n",
       " 'In',\n",
       " 'the',\n",
       " 'context',\n",
       " 'of',\n",
       " 'the',\n",
       " 'REF',\n",
       " ',',\n",
       " 'we',\n",
       " 'argue',\n",
       " 'that',\n",
       " 'agreement',\n",
       " 'between',\n",
       " 'metrics',\n",
       " 'and',\n",
       " 'peer',\n",
       " 'review',\n",
       " 'should',\n",
       " 'be',\n",
       " 'assessed',\n",
       " 'at',\n",
       " 'the',\n",
       " 'institutional',\n",
       " 'level',\n",
       " 'rather',\n",
       " 'than',\n",
       " 'at',\n",
       " 'the',\n",
       " 'publication',\n",
       " 'level',\n",
       " '.',\n",
       " 'Both',\n",
       " 'a',\n",
       " 'size-dependent',\n",
       " 'and',\n",
       " 'a',\n",
       " 'size-independent',\n",
       " 'perspective',\n",
       " 'are',\n",
       " 'relevant',\n",
       " 'in',\n",
       " 'the',\n",
       " 'REF',\n",
       " '.',\n",
       " 'The',\n",
       " 'interpretation',\n",
       " 'of',\n",
       " 'correlations',\n",
       " 'may',\n",
       " 'be',\n",
       " 'problematic',\n",
       " 'and',\n",
       " 'as',\n",
       " 'an',\n",
       " 'alternative',\n",
       " 'we',\n",
       " 'therefore',\n",
       " 'use',\n",
       " 'measures',\n",
       " 'of',\n",
       " 'agreement',\n",
       " 'that',\n",
       " 'are',\n",
       " 'based',\n",
       " 'on',\n",
       " 'the',\n",
       " 'absolute',\n",
       " 'or',\n",
       " 'relative',\n",
       " 'differences',\n",
       " 'between',\n",
       " 'metrics',\n",
       " 'and',\n",
       " 'peer',\n",
       " 'review',\n",
       " '.',\n",
       " 'To',\n",
       " 'get',\n",
       " 'an',\n",
       " 'idea',\n",
       " 'of',\n",
       " 'the',\n",
       " 'uncertainty',\n",
       " 'in',\n",
       " 'peer',\n",
       " 'review',\n",
       " ',',\n",
       " 'we',\n",
       " 'rely',\n",
       " 'on',\n",
       " 'a',\n",
       " 'model',\n",
       " 'to',\n",
       " 'bootstrap',\n",
       " 'peer',\n",
       " 'review',\n",
       " 'outcomes',\n",
       " '.',\n",
       " 'We',\n",
       " 'conclude',\n",
       " 'that',\n",
       " 'particularly',\n",
       " 'in',\n",
       " 'Physics',\n",
       " ',',\n",
       " 'Clinical',\n",
       " 'Medicine',\n",
       " ',',\n",
       " 'and',\n",
       " 'Public',\n",
       " 'Health',\n",
       " ',',\n",
       " 'metrics',\n",
       " 'agree',\n",
       " 'relatively',\n",
       " 'well',\n",
       " 'with',\n",
       " 'peer',\n",
       " 'review',\n",
       " 'and',\n",
       " 'may',\n",
       " 'offer',\n",
       " 'an',\n",
       " 'alternative',\n",
       " 'to',\n",
       " 'peer',\n",
       " 'review',\n",
       " '.']"
      ]
     },
     "execution_count": 496,
     "metadata": {},
     "output_type": "execute_result"
    }
   ],
   "source": [
    "# break the abstract into individual words\n",
    "vincent_words = word_tokenize(vincent_abstract)\n",
    "vincent_words"
   ]
  },
  {
   "cell_type": "markdown",
   "id": "7f5423fa",
   "metadata": {},
   "source": [
    "Note that there are a lot of 'stopwords' in sentences. These typically add little to a quantitative analysis of text, and can be removed. NLTK has lists of stopwords for various languages. Let's remove these from the text."
   ]
  },
  {
   "cell_type": "code",
   "execution_count": 497,
   "id": "86f41507",
   "metadata": {},
   "outputs": [
    {
     "name": "stdout",
     "output_type": "stream",
     "text": [
      "{'then', \"haven't\", 'only', 'does', 'aren', 'yourselves', 'myself', 'from', 'they', 'doesn', 'has', \"shouldn't\", 'whom', 'do', 'now', \"that'll\", 'will', 'such', 'how', 'while', 'very', 'll', \"shan't\", 'their', 'can', 'ma', 'below', \"aren't\", 'been', 'in', 'was', 'too', 'yours', 'did', 'when', 'needn', 'won', \"she's\", \"it's\", 'on', 'his', 'than', 're', 'just', 'hasn', 'itself', 'over', 'for', 'she', 'this', 'who', 'to', \"isn't\", \"you're\", 'out', 'off', \"needn't\", 'my', 'at', 'hers', 'some', 'hadn', 'again', 'isn', 'above', 'what', 'any', 'am', 'it', 'your', 'our', \"should've\", \"mightn't\", \"wasn't\", \"wouldn't\", 'no', 'being', 'until', 'because', 'same', 'wasn', 'ours', 'don', 've', \"didn't\", 'other', 'shan', 'against', 'after', 'into', \"weren't\", 'you', 'between', 'which', 'me', 'have', 'm', 'didn', 'about', 'all', 'ain', \"hasn't\", 'but', 'down', 'each', 'a', 'its', 'or', 'where', 'theirs', \"you've\", 'are', \"you'll\", 'and', 'under', 'once', 'd', 'further', \"you'd\", 'couldn', 'nor', \"don't\", 'ourselves', 'those', 'them', 'with', 'the', 's', 'mustn', 'yourself', \"won't\", 'we', 'be', 'own', 'were', 'mightn', 'that', 'few', 'her', \"mustn't\", 'having', 'herself', 'themselves', 'by', 'an', 'o', 'is', 'doing', 'had', 'if', 'not', \"couldn't\", 'i', 'here', 'haven', 'shouldn', 'him', 'as', 'up', \"hadn't\", 'should', 'weren', 'himself', 'of', 'most', 'both', 't', 'during', 'wouldn', 'he', \"doesn't\", 'through', 'before', 'more', 'so', 'y', 'these', 'there', 'why'}\n"
     ]
    }
   ],
   "source": [
    "from nltk.corpus import stopwords\n",
    "stop_words = set(stopwords.words(\"english\"))\n",
    "print(stop_words)"
   ]
  },
  {
   "cell_type": "code",
   "execution_count": 498,
   "id": "2231dbf8",
   "metadata": {},
   "outputs": [
    {
     "name": "stdout",
     "output_type": "stream",
     "text": [
      "['performing', 'national', 'research', 'assessment', ',', 'countries', 'rely', 'citation', 'metrics', 'whereas', 'others', ',', 'uk', ',', 'primarily', 'use', 'peer', 'review', '.', 'influential', 'metric', 'tide', 'report', ',', 'low', 'agreement', 'metrics', 'peer', 'review', 'uk', 'research', 'excellence', 'framework', '(', 'ref', ')', 'found', '.', 'however', ',', 'earlier', 'studies', 'observed', 'much', 'higher', 'agreement', 'metrics', 'peer', 'review', 'ref', 'argued', 'favour', 'using', 'metrics', '.', 'shows', 'considerable', 'ambiguity', 'discussion', 'agreement', 'metrics', 'peer', 'review', '.', 'provide', 'clarity', 'discussion', 'considering', 'four', 'important', 'points', ':', '(', '1', ')', 'level', 'aggregation', 'analysis', ';', '(', '2', ')', 'use', 'either', 'size-dependent', 'size-independent', 'perspective', ';', '(', '3', ')', 'suitability', 'different', 'measures', 'agreement', ';', '(', '4', ')', 'uncertainty', 'peer', 'review', '.', 'context', 'ref', ',', 'argue', 'agreement', 'metrics', 'peer', 'review', 'assessed', 'institutional', 'level', 'rather', 'publication', 'level', '.', 'size-dependent', 'size-independent', 'perspective', 'relevant', 'ref', '.', 'interpretation', 'correlations', 'may', 'problematic', 'alternative', 'therefore', 'use', 'measures', 'agreement', 'based', 'absolute', 'relative', 'differences', 'metrics', 'peer', 'review', '.', 'get', 'idea', 'uncertainty', 'peer', 'review', ',', 'rely', 'model', 'bootstrap', 'peer', 'review', 'outcomes', '.', 'conclude', 'particularly', 'physics', ',', 'clinical', 'medicine', ',', 'public', 'health', ',', 'metrics', 'agree', 'relatively', 'well', 'peer', 'review', 'may', 'offer', 'alternative', 'peer', 'review', '.']\n"
     ]
    }
   ],
   "source": [
    "vincent_words = [w.lower() for w in vincent_words if w.lower() not in stopwords.words(\"english\")]\n",
    "print(vincent_words)"
   ]
  },
  {
   "cell_type": "markdown",
   "id": "665d2dcc",
   "metadata": {},
   "source": [
    "let's also remove all tokens that consists of non-alphabetical characters, with a simple regular expression."
   ]
  },
  {
   "cell_type": "code",
   "execution_count": 499,
   "id": "35ed4618",
   "metadata": {},
   "outputs": [
    {
     "name": "stdout",
     "output_type": "stream",
     "text": [
      "['performing', 'national', 'research', 'assessment', 'countries', 'rely', 'citation', 'metrics', 'whereas', 'others', 'uk', 'primarily', 'use', 'peer', 'review', 'influential', 'metric', 'tide', 'report', 'low', 'agreement', 'metrics', 'peer', 'review', 'uk', 'research', 'excellence', 'framework', 'ref', 'found', 'however', 'earlier', 'studies', 'observed', 'much', 'higher', 'agreement', 'metrics', 'peer', 'review', 'ref', 'argued', 'favour', 'using', 'metrics', 'shows', 'considerable', 'ambiguity', 'discussion', 'agreement', 'metrics', 'peer', 'review', 'provide', 'clarity', 'discussion', 'considering', 'four', 'important', 'points', 'level', 'aggregation', 'analysis', 'use', 'either', 'size-dependent', 'size-independent', 'perspective', 'suitability', 'different', 'measures', 'agreement', 'uncertainty', 'peer', 'review', 'context', 'ref', 'argue', 'agreement', 'metrics', 'peer', 'review', 'assessed', 'institutional', 'level', 'rather', 'publication', 'level', 'size-dependent', 'size-independent', 'perspective', 'relevant', 'ref', 'interpretation', 'correlations', 'may', 'problematic', 'alternative', 'therefore', 'use', 'measures', 'agreement', 'based', 'absolute', 'relative', 'differences', 'metrics', 'peer', 'review', 'get', 'idea', 'uncertainty', 'peer', 'review', 'rely', 'model', 'bootstrap', 'peer', 'review', 'outcomes', 'conclude', 'particularly', 'physics', 'clinical', 'medicine', 'public', 'health', 'metrics', 'agree', 'relatively', 'well', 'peer', 'review', 'may', 'offer', 'alternative', 'peer', 'review']\n"
     ]
    }
   ],
   "source": [
    "vincent_words = [w for w in vincent_words if bool(re.match('[^a-z]', w))==False]\n",
    "print(vincent_words)"
   ]
  },
  {
   "cell_type": "markdown",
   "id": "b09672a1",
   "metadata": {},
   "source": [
    "### Lemmatizataion and stemming\n",
    "Stemming reduces words to a base stem form by using predefined rules to trim the endings of nouns and verbs."
   ]
  },
  {
   "cell_type": "code",
   "execution_count": 515,
   "id": "1c32973e",
   "metadata": {},
   "outputs": [],
   "source": [
    "from nltk.stem.porter import PorterStemmer"
   ]
  },
  {
   "cell_type": "code",
   "execution_count": 516,
   "id": "646beaa6",
   "metadata": {},
   "outputs": [
    {
     "name": "stdout",
     "output_type": "stream",
     "text": [
      "performing  :  perform\n",
      "national  :  nation\n",
      "assessment  :  assess\n",
      "countries  :  countri\n",
      "rely  :  reli\n",
      "citation  :  citat\n",
      "metrics  :  metric\n",
      "whereas  :  wherea\n",
      "others  :  other\n",
      "primarily  :  primarili\n",
      "influential  :  influenti\n",
      "metrics  :  metric\n",
      "excellence  :  excel\n",
      "however  :  howev\n",
      "studies  :  studi\n",
      "observed  :  observ\n",
      "metrics  :  metric\n",
      "argued  :  argu\n",
      "using  :  use\n",
      "metrics  :  metric\n",
      "shows  :  show\n",
      "considerable  :  consider\n",
      "ambiguity  :  ambigu\n",
      "discussion  :  discuss\n",
      "metrics  :  metric\n",
      "provide  :  provid\n",
      "clarity  :  clariti\n",
      "discussion  :  discuss\n",
      "considering  :  consid\n",
      "important  :  import\n",
      "points  :  point\n",
      "aggregation  :  aggreg\n",
      "analysis  :  analysi\n",
      "size-dependent  :  size-depend\n",
      "size-independent  :  size-independ\n",
      "perspective  :  perspect\n",
      "suitability  :  suitabl\n",
      "different  :  differ\n",
      "measures  :  measur\n",
      "uncertainty  :  uncertainti\n",
      "argue  :  argu\n",
      "metrics  :  metric\n",
      "assessed  :  assess\n",
      "institutional  :  institut\n",
      "publication  :  public\n",
      "size-dependent  :  size-depend\n",
      "size-independent  :  size-independ\n",
      "perspective  :  perspect\n",
      "relevant  :  relev\n",
      "interpretation  :  interpret\n",
      "correlations  :  correl\n",
      "problematic  :  problemat\n",
      "alternative  :  altern\n",
      "therefore  :  therefor\n",
      "measures  :  measur\n",
      "based  :  base\n",
      "absolute  :  absolut\n",
      "relative  :  rel\n",
      "differences  :  differ\n",
      "metrics  :  metric\n",
      "uncertainty  :  uncertainti\n",
      "rely  :  reli\n",
      "outcomes  :  outcom\n",
      "conclude  :  conclud\n",
      "particularly  :  particularli\n",
      "physics  :  physic\n",
      "clinical  :  clinic\n",
      "medicine  :  medicin\n",
      "metrics  :  metric\n",
      "agree  :  agre\n",
      "relatively  :  rel\n",
      "alternative  :  altern\n"
     ]
    }
   ],
   "source": [
    "ps = PorterStemmer()\n",
    "\n",
    "for w in vincent_words:\n",
    "    stemmed = ps.stem(w)\n",
    "    if w != stemmed:\n",
    "        print(w, \" : \", stemmed)"
   ]
  },
  {
   "cell_type": "markdown",
   "id": "c2516611",
   "metadata": {},
   "source": [
    "Lemmatization looks up words and replaces them with their base form, if found. The downside is that unknown words are ignored."
   ]
  },
  {
   "cell_type": "code",
   "execution_count": 517,
   "id": "233b2836",
   "metadata": {},
   "outputs": [],
   "source": [
    "from nltk.stem.wordnet import WordNetLemmatizer"
   ]
  },
  {
   "cell_type": "code",
   "execution_count": 518,
   "id": "f913dcf8",
   "metadata": {},
   "outputs": [
    {
     "name": "stdout",
     "output_type": "stream",
     "text": [
      "countries  :  country\n",
      "metrics  :  metric\n",
      "metrics  :  metric\n",
      "studies  :  study\n",
      "metrics  :  metric\n",
      "metrics  :  metric\n",
      "shows  :  show\n",
      "metrics  :  metric\n",
      "points  :  point\n",
      "measures  :  measure\n",
      "metrics  :  metric\n",
      "correlations  :  correlation\n",
      "measures  :  measure\n",
      "differences  :  difference\n",
      "metrics  :  metric\n",
      "outcomes  :  outcome\n",
      "physics  :  physic\n",
      "metrics  :  metric\n"
     ]
    }
   ],
   "source": [
    "for w in vincent_words:\n",
    "    lemmed = WordNetLemmatizer().lemmatize(w)\n",
    "    if w != lemmed:\n",
    "        print(w, \" : \", lemmed)"
   ]
  },
  {
   "cell_type": "markdown",
   "id": "8f65eba2",
   "metadata": {},
   "source": [
    "## POS tagging\n",
    "We can find part-of-speech tags (nouns, verbs, etc) using NLTK, as well. This allows us to extract, for instance, all verbs from Vincent's abstract. First, let's return to the original tokenized word list, then tag them sentence by sentence. See https://www.ling.upenn.edu/courses/Fall_2003/ling001/penn_treebank_pos.html for a list of all POS tags."
   ]
  },
  {
   "cell_type": "code",
   "execution_count": 534,
   "id": "977ffd4e",
   "metadata": {},
   "outputs": [
    {
     "name": "stdout",
     "output_type": "stream",
     "text": [
      "[('When', 'WRB'), ('performing', 'VBG'), ('a', 'DT'), ('national', 'JJ'), ('research', 'NN'), ('assessment', 'NN'), (',', ','), ('some', 'DT'), ('countries', 'NNS'), ('rely', 'VBP'), ('on', 'IN'), ('citation', 'NN'), ('metrics', 'NNS'), ('whereas', 'JJ'), ('others', 'NNS'), (',', ','), ('such', 'JJ'), ('as', 'IN'), ('the', 'DT'), ('UK', 'NNP'), (',', ','), ('primarily', 'RB'), ('use', 'VB'), ('peer', 'NN'), ('review', 'NN'), ('.', '.')]\n"
     ]
    }
   ],
   "source": [
    "from nltk import pos_tag\n",
    "sent_pos_tags = [pos_tag(word_tokenize(sent)) for sent in vincent_sentences]\n",
    "print(sent_pos_tags[0])"
   ]
  },
  {
   "cell_type": "code",
   "execution_count": 536,
   "id": "221b86de",
   "metadata": {},
   "outputs": [
    {
     "data": {
      "text/plain": [
       "[['performing', 'rely', 'use'],\n",
       " ['peer', 'was', 'found'],\n",
       " ['observed', 'peer', 'argued', 'using'],\n",
       " ['shows', 'is', 'peer'],\n",
       " ['provide', 'considering'],\n",
       " ['argue', 'peer', 'be', 'assessed'],\n",
       " ['are'],\n",
       " ['be', 'therefore', 'are', 'based', 'peer'],\n",
       " ['get', 'rely', 'bootstrap'],\n",
       " ['conclude', 'agree', 'offer', 'peer']]"
      ]
     },
     "execution_count": 536,
     "metadata": {},
     "output_type": "execute_result"
    }
   ],
   "source": [
    "# retrieve verbs\n",
    "[[v[0] for v in s if v[1][0]=='V'] for s in sent_pos_tags]"
   ]
  }
 ],
 "metadata": {
  "kernelspec": {
   "display_name": "Python 3 (ipykernel)",
   "language": "python",
   "name": "python3"
  },
  "language_info": {
   "codemirror_mode": {
    "name": "ipython",
    "version": 3
   },
   "file_extension": ".py",
   "mimetype": "text/x-python",
   "name": "python",
   "nbconvert_exporter": "python",
   "pygments_lexer": "ipython3",
   "version": "3.8.12"
  }
 },
 "nbformat": 4,
 "nbformat_minor": 5
}
